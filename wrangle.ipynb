{
 "cells": [
  {
   "cell_type": "markdown",
   "id": "103b5e7d",
   "metadata": {},
   "source": [
    "## We finna wrangle"
   ]
  },
  {
   "cell_type": "markdown",
   "id": "2fe4e1f9",
   "metadata": {},
   "source": [
    "In these exercises, you will complete the first step toward the above goal: acquire and prepare the necessary Zillow data from the zillow database in the Codeup database server."
   ]
  },
  {
   "cell_type": "code",
   "execution_count": 1,
   "id": "2eb75511",
   "metadata": {},
   "outputs": [],
   "source": [
    "import warnings\n",
    "warnings.filterwarnings('ignore')\n",
    "import os\n",
    "\n",
    "import numpy as np\n",
    "import pandas as pd\n",
    "\n",
    "import matplotlib.pyplot as plt\n",
    "import seaborn as sns\n",
    "\n",
    "import mason_functions as mf"
   ]
  },
  {
   "cell_type": "code",
   "execution_count": 2,
   "id": "33dea8a0",
   "metadata": {},
   "outputs": [],
   "source": [
    "def get_db_url(db_name):\n",
    "    from env import host, user, password\n",
    "    return f'mysql+pymysql://{user}:{password}@{host}/{db_name}'"
   ]
  },
  {
   "cell_type": "markdown",
   "id": "a59f203d",
   "metadata": {},
   "source": [
    "### Exercise I\n",
    "Acquire bedroomcnt, bathroomcnt, calculatedfinishedsquarefeet, taxvaluedollarcnt, yearbuilt, taxamount, and fips from the zillow database for all 'Single Family Residential' properties."
   ]
  },
  {
   "cell_type": "code",
   "execution_count": 3,
   "id": "d1a62235",
   "metadata": {},
   "outputs": [],
   "source": [
    "#define my sql query into the relational database\n",
    "sql = '''\n",
    "SELECT bedroomcnt, bathroomcnt, calculatedfinishedsquarefeet, taxvaluedollarcnt, yearbuilt, taxamount, fips\n",
    "FROM properties_2017\n",
    "WHERE propertylandusetypeid = 261 or propertylandusetypeid = 279\n",
    "'''\n",
    "\n",
    "#define my url\n",
    "url = get_db_url('zillow')\n",
    "\n",
    "#read the information from the db into a df\n",
    "#I also don't want to keep querying the codeup rdbms (in case the kernel gotta go)\n",
    "if os.path.isfile('properties_2017.csv'):\n",
    "    df = pd.read_csv('properties_2017.csv', index_col = 0)\n",
    "else:\n",
    "    df = pd.read_sql(sql, url)\n",
    "    df.to_csv('properties_2017.csv')"
   ]
  },
  {
   "cell_type": "code",
   "execution_count": 4,
   "id": "ea2213bd",
   "metadata": {},
   "outputs": [
    {
     "name": "stdout",
     "output_type": "stream",
     "text": [
      "<class 'pandas.core.frame.DataFrame'>\n",
      "Int64Index: 2152864 entries, 0 to 2152863\n",
      "Data columns (total 7 columns):\n",
      " #   Column                        Dtype  \n",
      "---  ------                        -----  \n",
      " 0   bedroomcnt                    float64\n",
      " 1   bathroomcnt                   float64\n",
      " 2   calculatedfinishedsquarefeet  float64\n",
      " 3   taxvaluedollarcnt             float64\n",
      " 4   yearbuilt                     float64\n",
      " 5   taxamount                     float64\n",
      " 6   fips                          float64\n",
      "dtypes: float64(7)\n",
      "memory usage: 131.4 MB\n",
      "None\n"
     ]
    },
    {
     "data": {
      "text/html": [
       "<div>\n",
       "<style scoped>\n",
       "    .dataframe tbody tr th:only-of-type {\n",
       "        vertical-align: middle;\n",
       "    }\n",
       "\n",
       "    .dataframe tbody tr th {\n",
       "        vertical-align: top;\n",
       "    }\n",
       "\n",
       "    .dataframe thead th {\n",
       "        text-align: right;\n",
       "    }\n",
       "</style>\n",
       "<table border=\"1\" class=\"dataframe\">\n",
       "  <thead>\n",
       "    <tr style=\"text-align: right;\">\n",
       "      <th></th>\n",
       "      <th>bedroomcnt</th>\n",
       "      <th>bathroomcnt</th>\n",
       "      <th>calculatedfinishedsquarefeet</th>\n",
       "      <th>taxvaluedollarcnt</th>\n",
       "      <th>yearbuilt</th>\n",
       "      <th>taxamount</th>\n",
       "      <th>fips</th>\n",
       "    </tr>\n",
       "  </thead>\n",
       "  <tbody>\n",
       "    <tr>\n",
       "      <th>0</th>\n",
       "      <td>0.0</td>\n",
       "      <td>0.0</td>\n",
       "      <td>NaN</td>\n",
       "      <td>27516.0</td>\n",
       "      <td>NaN</td>\n",
       "      <td>NaN</td>\n",
       "      <td>6037.0</td>\n",
       "    </tr>\n",
       "    <tr>\n",
       "      <th>1</th>\n",
       "      <td>0.0</td>\n",
       "      <td>0.0</td>\n",
       "      <td>NaN</td>\n",
       "      <td>10.0</td>\n",
       "      <td>NaN</td>\n",
       "      <td>NaN</td>\n",
       "      <td>6037.0</td>\n",
       "    </tr>\n",
       "    <tr>\n",
       "      <th>2</th>\n",
       "      <td>0.0</td>\n",
       "      <td>0.0</td>\n",
       "      <td>NaN</td>\n",
       "      <td>10.0</td>\n",
       "      <td>NaN</td>\n",
       "      <td>NaN</td>\n",
       "      <td>6037.0</td>\n",
       "    </tr>\n",
       "    <tr>\n",
       "      <th>3</th>\n",
       "      <td>0.0</td>\n",
       "      <td>0.0</td>\n",
       "      <td>NaN</td>\n",
       "      <td>2108.0</td>\n",
       "      <td>NaN</td>\n",
       "      <td>174.21</td>\n",
       "      <td>6037.0</td>\n",
       "    </tr>\n",
       "    <tr>\n",
       "      <th>4</th>\n",
       "      <td>4.0</td>\n",
       "      <td>2.0</td>\n",
       "      <td>3633.0</td>\n",
       "      <td>296425.0</td>\n",
       "      <td>2005.0</td>\n",
       "      <td>6941.39</td>\n",
       "      <td>6037.0</td>\n",
       "    </tr>\n",
       "  </tbody>\n",
       "</table>\n",
       "</div>"
      ],
      "text/plain": [
       "   bedroomcnt  bathroomcnt  calculatedfinishedsquarefeet  taxvaluedollarcnt  \\\n",
       "0         0.0          0.0                           NaN            27516.0   \n",
       "1         0.0          0.0                           NaN               10.0   \n",
       "2         0.0          0.0                           NaN               10.0   \n",
       "3         0.0          0.0                           NaN             2108.0   \n",
       "4         4.0          2.0                        3633.0           296425.0   \n",
       "\n",
       "   yearbuilt  taxamount    fips  \n",
       "0        NaN        NaN  6037.0  \n",
       "1        NaN        NaN  6037.0  \n",
       "2        NaN        NaN  6037.0  \n",
       "3        NaN     174.21  6037.0  \n",
       "4     2005.0    6941.39  6037.0  "
      ]
     },
     "execution_count": 4,
     "metadata": {},
     "output_type": "execute_result"
    }
   ],
   "source": [
    "#at a glance\n",
    "print(df.info())\n",
    "df.head()"
   ]
  },
  {
   "cell_type": "markdown",
   "id": "80d5158b",
   "metadata": {},
   "source": [
    "### Exercise II\n",
    "Using your acquired Zillow data, walk through the summarization and cleaning steps in your wrangle.ipynb file like we did above. You may handle the missing values however you feel is appropriate and meaninful; remember to document your process and decisions using markdown and code commenting where helpful."
   ]
  },
  {
   "cell_type": "code",
   "execution_count": 5,
   "id": "588328b6",
   "metadata": {},
   "outputs": [
    {
     "data": {
      "text/html": [
       "<div>\n",
       "<style scoped>\n",
       "    .dataframe tbody tr th:only-of-type {\n",
       "        vertical-align: middle;\n",
       "    }\n",
       "\n",
       "    .dataframe tbody tr th {\n",
       "        vertical-align: top;\n",
       "    }\n",
       "\n",
       "    .dataframe thead th {\n",
       "        text-align: right;\n",
       "    }\n",
       "</style>\n",
       "<table border=\"1\" class=\"dataframe\">\n",
       "  <thead>\n",
       "    <tr style=\"text-align: right;\">\n",
       "      <th></th>\n",
       "      <th>count</th>\n",
       "      <th>mean</th>\n",
       "      <th>std</th>\n",
       "      <th>min</th>\n",
       "      <th>25%</th>\n",
       "      <th>50%</th>\n",
       "      <th>75%</th>\n",
       "      <th>max</th>\n",
       "    </tr>\n",
       "  </thead>\n",
       "  <tbody>\n",
       "    <tr>\n",
       "      <th>bedroomcnt</th>\n",
       "      <td>2152853.0</td>\n",
       "      <td>3.287195</td>\n",
       "      <td>0.954757</td>\n",
       "      <td>0.00</td>\n",
       "      <td>3.0000</td>\n",
       "      <td>3.000</td>\n",
       "      <td>4.0000</td>\n",
       "      <td>25.00</td>\n",
       "    </tr>\n",
       "    <tr>\n",
       "      <th>bathroomcnt</th>\n",
       "      <td>2152853.0</td>\n",
       "      <td>2.230687</td>\n",
       "      <td>0.999281</td>\n",
       "      <td>0.00</td>\n",
       "      <td>2.0000</td>\n",
       "      <td>2.000</td>\n",
       "      <td>3.0000</td>\n",
       "      <td>32.00</td>\n",
       "    </tr>\n",
       "    <tr>\n",
       "      <th>calculatedfinishedsquarefeet</th>\n",
       "      <td>2144379.0</td>\n",
       "      <td>1862.855178</td>\n",
       "      <td>1222.125124</td>\n",
       "      <td>1.00</td>\n",
       "      <td>1257.0000</td>\n",
       "      <td>1623.000</td>\n",
       "      <td>2208.0000</td>\n",
       "      <td>952576.00</td>\n",
       "    </tr>\n",
       "    <tr>\n",
       "      <th>taxvaluedollarcnt</th>\n",
       "      <td>2152371.0</td>\n",
       "      <td>461896.052361</td>\n",
       "      <td>699675.940049</td>\n",
       "      <td>1.00</td>\n",
       "      <td>188170.0000</td>\n",
       "      <td>327671.000</td>\n",
       "      <td>534527.0000</td>\n",
       "      <td>98428909.00</td>\n",
       "    </tr>\n",
       "    <tr>\n",
       "      <th>yearbuilt</th>\n",
       "      <td>2143526.0</td>\n",
       "      <td>1960.949681</td>\n",
       "      <td>22.162196</td>\n",
       "      <td>1801.00</td>\n",
       "      <td>1949.0000</td>\n",
       "      <td>1958.000</td>\n",
       "      <td>1976.0000</td>\n",
       "      <td>2016.00</td>\n",
       "    </tr>\n",
       "    <tr>\n",
       "      <th>taxamount</th>\n",
       "      <td>2148422.0</td>\n",
       "      <td>5634.863752</td>\n",
       "      <td>8178.908996</td>\n",
       "      <td>1.85</td>\n",
       "      <td>2534.9725</td>\n",
       "      <td>4108.945</td>\n",
       "      <td>6414.3175</td>\n",
       "      <td>1337755.86</td>\n",
       "    </tr>\n",
       "    <tr>\n",
       "      <th>fips</th>\n",
       "      <td>2152864.0</td>\n",
       "      <td>6048.377330</td>\n",
       "      <td>20.433289</td>\n",
       "      <td>6037.00</td>\n",
       "      <td>6037.0000</td>\n",
       "      <td>6037.000</td>\n",
       "      <td>6059.0000</td>\n",
       "      <td>6111.00</td>\n",
       "    </tr>\n",
       "  </tbody>\n",
       "</table>\n",
       "</div>"
      ],
      "text/plain": [
       "                                  count           mean            std  \\\n",
       "bedroomcnt                    2152853.0       3.287195       0.954757   \n",
       "bathroomcnt                   2152853.0       2.230687       0.999281   \n",
       "calculatedfinishedsquarefeet  2144379.0    1862.855178    1222.125124   \n",
       "taxvaluedollarcnt             2152371.0  461896.052361  699675.940049   \n",
       "yearbuilt                     2143526.0    1960.949681      22.162196   \n",
       "taxamount                     2148422.0    5634.863752    8178.908996   \n",
       "fips                          2152864.0    6048.377330      20.433289   \n",
       "\n",
       "                                  min          25%         50%          75%  \\\n",
       "bedroomcnt                       0.00       3.0000       3.000       4.0000   \n",
       "bathroomcnt                      0.00       2.0000       2.000       3.0000   \n",
       "calculatedfinishedsquarefeet     1.00    1257.0000    1623.000    2208.0000   \n",
       "taxvaluedollarcnt                1.00  188170.0000  327671.000  534527.0000   \n",
       "yearbuilt                     1801.00    1949.0000    1958.000    1976.0000   \n",
       "taxamount                        1.85    2534.9725    4108.945    6414.3175   \n",
       "fips                          6037.00    6037.0000    6037.000    6059.0000   \n",
       "\n",
       "                                      max  \n",
       "bedroomcnt                          25.00  \n",
       "bathroomcnt                         32.00  \n",
       "calculatedfinishedsquarefeet    952576.00  \n",
       "taxvaluedollarcnt             98428909.00  \n",
       "yearbuilt                         2016.00  \n",
       "taxamount                      1337755.86  \n",
       "fips                              6111.00  "
      ]
     },
     "execution_count": 5,
     "metadata": {},
     "output_type": "execute_result"
    }
   ],
   "source": [
    "#summary statistics\n",
    "df.describe().T"
   ]
  },
  {
   "cell_type": "code",
   "execution_count": 6,
   "id": "e100c21e",
   "metadata": {},
   "outputs": [],
   "source": [
    "df = df.rename(columns = {'bedroomcnt': 'bedroom_count',\n",
    "                         'bathroomcnt': 'bathroom_count',\n",
    "                         'calculatedfinishedsquarefeet': 'square_footage',\n",
    "                         'taxvaluedollarcnt': 'tax_value',\n",
    "                         'yearbuilt': 'year_built',\n",
    "                         'taxamount': 'taxes',\n",
    "                         'fips': 'fips_id'\n",
    "                         })"
   ]
  },
  {
   "cell_type": "code",
   "execution_count": 7,
   "id": "f679fc37",
   "metadata": {},
   "outputs": [],
   "source": [
    "df.fips_id = df.fips_id.astype(int)"
   ]
  },
  {
   "cell_type": "code",
   "execution_count": 8,
   "id": "712c0849",
   "metadata": {},
   "outputs": [],
   "source": [
    "quant_vars = ['bedroom_count', 'bathroom_count', 'square_footage', 'tax_value', 'taxes']"
   ]
  },
  {
   "cell_type": "code",
   "execution_count": 9,
   "id": "e1bb6e93",
   "metadata": {},
   "outputs": [
    {
     "name": "stdout",
     "output_type": "stream",
     "text": [
      "      bedroom_count bathroom_count square_footage    tax_value   year_built  \\\n",
      "count   2.15285e+06    2.15285e+06    2.14438e+06  2.15237e+06  2.14353e+06   \n",
      "mean        3.28719        2.23069        1862.86       461896      1960.95   \n",
      "std        0.954757       0.999281        1222.13       699676      22.1622   \n",
      "min               0              0              1            1         1801   \n",
      "25%               3              2           1257       188170         1949   \n",
      "50%               3              2           1623       327671         1958   \n",
      "75%               4              3           2208       534527         1976   \n",
      "max              25             32         952576  9.84289e+07         2016   \n",
      "\n",
      "             taxes      fips_id  \n",
      "count  2.14842e+06  2.15286e+06  \n",
      "mean       5634.86      6048.38  \n",
      "std        8178.91      20.4333  \n",
      "min           1.85         6037  \n",
      "25%        2534.97         6037  \n",
      "50%        4108.94         6037  \n",
      "75%        6414.32         6059  \n",
      "max    1.33776e+06         6111  \n"
     ]
    },
    {
     "data": {
      "image/png": "[encoded data removed]",
      "text/plain": [
       "<Figure size 432x288 with 1 Axes>"
      ]
     },
     "metadata": {},
     "output_type": "display_data"
    },
    {
     "data": {
      "image/png": "[encoded data removed]",
      "text/plain": [
       "<Figure size 432x288 with 1 Axes>"
      ]
     },
     "metadata": {},
     "output_type": "display_data"
    },
    {
     "data": {
      "image/png": "[encoded data removed]",
      "text/plain": [
       "<Figure size 432x288 with 1 Axes>"
      ]
     },
     "metadata": {},
     "output_type": "display_data"
    },
    {
     "data": {
      "image/png": "[encoded data removed]",
      "text/plain": [
       "<Figure size 432x288 with 1 Axes>"
      ]
     },
     "metadata": {},
     "output_type": "display_data"
    },
    {
     "data": {
      "image/png": "[encoded data removed]",
      "text/plain": [
       "<Figure size 432x288 with 1 Axes>"
      ]
     },
     "metadata": {},
     "output_type": "display_data"
    },
    {
     "data": {
      "image/png": "[encoded data removed]",
      "text/plain": [
       "<Figure size 432x288 with 1 Axes>"
      ]
     },
     "metadata": {},
     "output_type": "display_data"
    },
    {
     "data": {
      "image/png": "[encoded data removed]",
      "text/plain": [
       "<Figure size 432x288 with 1 Axes>"
      ]
     },
     "metadata": {},
     "output_type": "display_data"
    },
    {
     "data": {
      "image/png": "[encoded data removed]",
      "text/plain": [
       "<Figure size 432x288 with 1 Axes>"
      ]
     },
     "metadata": {},
     "output_type": "display_data"
    },
    {
     "data": {
      "image/png": "[encoded data removed]",
      "text/plain": [
       "<Figure size 432x288 with 1 Axes>"
      ]
     },
     "metadata": {},
     "output_type": "display_data"
    },
    {
     "data": {
      "image/png": "[encoded data removed]",
      "text/plain": [
       "<Figure size 432x288 with 1 Axes>"
      ]
     },
     "metadata": {},
     "output_type": "display_data"
    },
    {
     "data": {
      "text/plain": [
       "<Figure size 432x288 with 0 Axes>"
      ]
     },
     "metadata": {},
     "output_type": "display_data"
    }
   ],
   "source": [
    "#distributions\n",
    "print(df.describe().apply(lambda s: s.apply(lambda x: format(x, 'g'))))\n",
    "sns.set()\n",
    "for cat in quant_vars:\n",
    "    df[cat].hist(color = 'firebrick')\n",
    "    plt.title(cat, pad = 11)\n",
    "    plt.xlabel(cat)\n",
    "    plt.ylabel('Frequency')\n",
    "    plt.grid(True)\n",
    "    plt.show();\n",
    "    plt.boxplot(df[cat])\n",
    "    plt.title(cat, pad = 11)\n",
    "    plt.ylabel(cat)\n",
    "    plt.grid(True)\n",
    "    plt.show()\n",
    "    plt.tight_layout();"
   ]
  },
  {
   "cell_type": "markdown",
   "id": "05c924ee",
   "metadata": {},
   "source": [
    "Okay, there are way too many outliers."
   ]
  },
  {
   "cell_type": "code",
   "execution_count": 10,
   "id": "ef654f2d",
   "metadata": {},
   "outputs": [],
   "source": [
    "#remove outliers\n",
    "def remove_outliers(df, k, col_list):\n",
    "    ''' \n",
    "    Removes outliers from a list of columns in a dataframe and returns the dataframe.\n",
    "    '''\n",
    "    \n",
    "    for col in col_list:\n",
    "\n",
    "        q1, q3 = df[col].quantile([.25, .75])  # get quartiles\n",
    "        \n",
    "        iqr = q3 - q1   # calculate interquartile range\n",
    "        \n",
    "        upper_bound = q3 + k * iqr   # get upper bound\n",
    "        lower_bound = q1 - k * iqr   # get lower bound\n",
    "\n",
    "        # return dataframe without outliers\n",
    "        \n",
    "        df = df[(df[col] > lower_bound) & (df[col] < upper_bound)]\n",
    "        \n",
    "    return df"
   ]
  },
  {
   "cell_type": "code",
   "execution_count": 11,
   "id": "b41ab9e4",
   "metadata": {},
   "outputs": [],
   "source": [
    "#remove outliers\n",
    "df = remove_outliers(df, 1.3, quant_vars)"
   ]
  },
  {
   "cell_type": "code",
   "execution_count": 12,
   "id": "6601fb1c",
   "metadata": {},
   "outputs": [
    {
     "data": {
      "text/plain": [
       "'1,809,980'"
      ]
     },
     "execution_count": 12,
     "metadata": {},
     "output_type": "execute_result"
    }
   ],
   "source": [
    "#how many rows do I have now?\n",
    "mf.add_commas(len(df))"
   ]
  },
  {
   "cell_type": "code",
   "execution_count": 13,
   "id": "924d72d1",
   "metadata": {},
   "outputs": [
    {
     "data": {
      "text/html": [
       "<div>\n",
       "<style scoped>\n",
       "    .dataframe tbody tr th:only-of-type {\n",
       "        vertical-align: middle;\n",
       "    }\n",
       "\n",
       "    .dataframe tbody tr th {\n",
       "        vertical-align: top;\n",
       "    }\n",
       "\n",
       "    .dataframe thead th {\n",
       "        text-align: right;\n",
       "    }\n",
       "</style>\n",
       "<table border=\"1\" class=\"dataframe\">\n",
       "  <thead>\n",
       "    <tr style=\"text-align: right;\">\n",
       "      <th></th>\n",
       "      <th>bedroom_count</th>\n",
       "      <th>bathroom_count</th>\n",
       "      <th>square_footage</th>\n",
       "      <th>tax_value</th>\n",
       "      <th>year_built</th>\n",
       "      <th>taxes</th>\n",
       "      <th>fips_id</th>\n",
       "    </tr>\n",
       "  </thead>\n",
       "  <tbody>\n",
       "    <tr>\n",
       "      <th>1751629</th>\n",
       "      <td>4.0</td>\n",
       "      <td>3.0</td>\n",
       "      <td>3214.0</td>\n",
       "      <td>448725.0</td>\n",
       "      <td>1987.0</td>\n",
       "      <td>5607.24</td>\n",
       "      <td>6037</td>\n",
       "    </tr>\n",
       "    <tr>\n",
       "      <th>20128</th>\n",
       "      <td>3.0</td>\n",
       "      <td>2.0</td>\n",
       "      <td>1085.0</td>\n",
       "      <td>468625.0</td>\n",
       "      <td>1994.0</td>\n",
       "      <td>5753.78</td>\n",
       "      <td>6059</td>\n",
       "    </tr>\n",
       "    <tr>\n",
       "      <th>70048</th>\n",
       "      <td>3.0</td>\n",
       "      <td>2.0</td>\n",
       "      <td>1753.0</td>\n",
       "      <td>567000.0</td>\n",
       "      <td>1939.0</td>\n",
       "      <td>6679.96</td>\n",
       "      <td>6037</td>\n",
       "    </tr>\n",
       "    <tr>\n",
       "      <th>826936</th>\n",
       "      <td>3.0</td>\n",
       "      <td>2.0</td>\n",
       "      <td>1691.0</td>\n",
       "      <td>354592.0</td>\n",
       "      <td>1978.0</td>\n",
       "      <td>4104.70</td>\n",
       "      <td>6059</td>\n",
       "    </tr>\n",
       "    <tr>\n",
       "      <th>2145467</th>\n",
       "      <td>3.0</td>\n",
       "      <td>2.0</td>\n",
       "      <td>1974.0</td>\n",
       "      <td>321574.0</td>\n",
       "      <td>1950.0</td>\n",
       "      <td>4368.18</td>\n",
       "      <td>6037</td>\n",
       "    </tr>\n",
       "    <tr>\n",
       "      <th>1864678</th>\n",
       "      <td>3.0</td>\n",
       "      <td>2.0</td>\n",
       "      <td>1524.0</td>\n",
       "      <td>153753.0</td>\n",
       "      <td>1988.0</td>\n",
       "      <td>2845.48</td>\n",
       "      <td>6037</td>\n",
       "    </tr>\n",
       "    <tr>\n",
       "      <th>1094249</th>\n",
       "      <td>4.0</td>\n",
       "      <td>3.0</td>\n",
       "      <td>1752.0</td>\n",
       "      <td>469096.0</td>\n",
       "      <td>1961.0</td>\n",
       "      <td>5816.18</td>\n",
       "      <td>6037</td>\n",
       "    </tr>\n",
       "    <tr>\n",
       "      <th>1546528</th>\n",
       "      <td>3.0</td>\n",
       "      <td>2.0</td>\n",
       "      <td>1628.0</td>\n",
       "      <td>97158.0</td>\n",
       "      <td>1962.0</td>\n",
       "      <td>1443.49</td>\n",
       "      <td>6037</td>\n",
       "    </tr>\n",
       "    <tr>\n",
       "      <th>2050426</th>\n",
       "      <td>4.0</td>\n",
       "      <td>2.0</td>\n",
       "      <td>1660.0</td>\n",
       "      <td>230853.0</td>\n",
       "      <td>1940.0</td>\n",
       "      <td>2882.28</td>\n",
       "      <td>6037</td>\n",
       "    </tr>\n",
       "    <tr>\n",
       "      <th>566193</th>\n",
       "      <td>2.0</td>\n",
       "      <td>1.0</td>\n",
       "      <td>744.0</td>\n",
       "      <td>125030.0</td>\n",
       "      <td>1950.0</td>\n",
       "      <td>1805.90</td>\n",
       "      <td>6037</td>\n",
       "    </tr>\n",
       "  </tbody>\n",
       "</table>\n",
       "</div>"
      ],
      "text/plain": [
       "         bedroom_count  bathroom_count  square_footage  tax_value  year_built  \\\n",
       "1751629            4.0             3.0          3214.0   448725.0      1987.0   \n",
       "20128              3.0             2.0          1085.0   468625.0      1994.0   \n",
       "70048              3.0             2.0          1753.0   567000.0      1939.0   \n",
       "826936             3.0             2.0          1691.0   354592.0      1978.0   \n",
       "2145467            3.0             2.0          1974.0   321574.0      1950.0   \n",
       "1864678            3.0             2.0          1524.0   153753.0      1988.0   \n",
       "1094249            4.0             3.0          1752.0   469096.0      1961.0   \n",
       "1546528            3.0             2.0          1628.0    97158.0      1962.0   \n",
       "2050426            4.0             2.0          1660.0   230853.0      1940.0   \n",
       "566193             2.0             1.0           744.0   125030.0      1950.0   \n",
       "\n",
       "           taxes  fips_id  \n",
       "1751629  5607.24     6037  \n",
       "20128    5753.78     6059  \n",
       "70048    6679.96     6037  \n",
       "826936   4104.70     6059  \n",
       "2145467  4368.18     6037  \n",
       "1864678  2845.48     6037  \n",
       "1094249  5816.18     6037  \n",
       "1546528  1443.49     6037  \n",
       "2050426  2882.28     6037  \n",
       "566193   1805.90     6037  "
      ]
     },
     "execution_count": 13,
     "metadata": {},
     "output_type": "execute_result"
    }
   ],
   "source": [
    "#more perspective\n",
    "df.sample(10)"
   ]
  },
  {
   "cell_type": "code",
   "execution_count": 14,
   "id": "ea267029",
   "metadata": {},
   "outputs": [
    {
     "name": "stdout",
     "output_type": "stream",
     "text": [
      "      bedroom_count bathroom_count square_footage    tax_value   year_built  \\\n",
      "count   1.80998e+06    1.80998e+06    1.80998e+06  1.80998e+06  1.80913e+06   \n",
      "mean         3.2029        2.03454        1630.97       317629      1959.15   \n",
      "std        0.776449       0.696335        541.351       187996      20.3478   \n",
      "min               2              1            132           22         1801   \n",
      "25%               3              2           1225       170385         1949   \n",
      "50%               3              2           1534       290967         1957   \n",
      "75%               4            2.5           1957       440328         1972   \n",
      "max               5              4           3237       877258         2016   \n",
      "\n",
      "             taxes      fips_id  \n",
      "count  1.80998e+06  1.80998e+06  \n",
      "mean       3948.42      6048.32  \n",
      "std        2112.59      20.5648  \n",
      "min          16.48         6037  \n",
      "25%        2327.67         6037  \n",
      "50%        3681.61         6037  \n",
      "75%         5349.2         6059  \n",
      "max        9513.76         6111  \n"
     ]
    },
    {
     "data": {
      "image/png": "[encoded data removed]",
      "text/plain": [
       "<Figure size 432x288 with 1 Axes>"
      ]
     },
     "metadata": {},
     "output_type": "display_data"
    },
    {
     "data": {
      "image/png": "[encoded data removed]",
      "text/plain": [
       "<Figure size 432x288 with 1 Axes>"
      ]
     },
     "metadata": {},
     "output_type": "display_data"
    },
    {
     "data": {
      "image/png": "[encoded data removed]",
      "text/plain": [
       "<Figure size 432x288 with 1 Axes>"
      ]
     },
     "metadata": {},
     "output_type": "display_data"
    },
    {
     "data": {
      "image/png": "[encoded data removed]",
      "text/plain": [
       "<Figure size 432x288 with 1 Axes>"
      ]
     },
     "metadata": {},
     "output_type": "display_data"
    },
    {
     "data": {
      "image/png": "[encoded data removed]",
      "text/plain": [
       "<Figure size 432x288 with 1 Axes>"
      ]
     },
     "metadata": {},
     "output_type": "display_data"
    },
    {
     "data": {
      "image/png": "[encoded data removed]",
      "text/plain": [
       "<Figure size 432x288 with 1 Axes>"
      ]
     },
     "metadata": {},
     "output_type": "display_data"
    },
    {
     "data": {
      "image/png": "[encoded data removed]",
      "text/plain": [
       "<Figure size 432x288 with 1 Axes>"
      ]
     },
     "metadata": {},
     "output_type": "display_data"
    },
    {
     "data": {
      "image/png": "[encoded data removed]",
      "text/plain": [
       "<Figure size 432x288 with 1 Axes>"
      ]
     },
     "metadata": {},
     "output_type": "display_data"
    },
    {
     "data": {
      "image/png": "[encoded data removed]",
      "text/plain": [
       "<Figure size 432x288 with 1 Axes>"
      ]
     },
     "metadata": {},
     "output_type": "display_data"
    },
    {
     "data": {
      "image/png": "[encoded data removed]",
      "text/plain": [
       "<Figure size 432x288 with 1 Axes>"
      ]
     },
     "metadata": {},
     "output_type": "display_data"
    },
    {
     "data": {
      "text/plain": [
       "<Figure size 432x288 with 0 Axes>"
      ]
     },
     "metadata": {},
     "output_type": "display_data"
    }
   ],
   "source": [
    "#distributions post outlier removal\n",
    "print(df.describe().apply(lambda s: s.apply(lambda x: format(x, 'g'))))\n",
    "sns.set()\n",
    "for cat in quant_vars:\n",
    "    df[cat].hist(color = 'firebrick')\n",
    "    plt.title(cat, pad = 11)\n",
    "    plt.xlabel(cat)\n",
    "    plt.ylabel('Frequency')\n",
    "    plt.grid(True)\n",
    "    plt.show();\n",
    "    plt.boxplot(df[cat])\n",
    "    plt.title(cat, pad = 11)\n",
    "    plt.ylabel(cat)\n",
    "    plt.grid(True)\n",
    "    plt.show()\n",
    "    plt.tight_layout();"
   ]
  },
  {
   "cell_type": "code",
   "execution_count": 15,
   "id": "b91bbe61",
   "metadata": {},
   "outputs": [
    {
     "data": {
      "text/plain": [
       "'2,272'"
      ]
     },
     "execution_count": 15,
     "metadata": {},
     "output_type": "execute_result"
    }
   ],
   "source": [
    "#how many outliers for my target variable\n",
    "mf.add_commas(len(df[df.tax_value > 850_000]))"
   ]
  },
  {
   "cell_type": "code",
   "execution_count": 16,
   "id": "09f21543",
   "metadata": {},
   "outputs": [
    {
     "data": {
      "text/plain": [
       "'1,809,980'"
      ]
     },
     "execution_count": 16,
     "metadata": {},
     "output_type": "execute_result"
    }
   ],
   "source": [
    "#how many left?\n",
    "mf.add_commas(len(df))"
   ]
  },
  {
   "cell_type": "code",
   "execution_count": 17,
   "id": "50ffde35",
   "metadata": {},
   "outputs": [
    {
     "data": {
      "text/plain": [
       "bedroom_count     False\n",
       "bathroom_count    False\n",
       "square_footage    False\n",
       "tax_value         False\n",
       "year_built         True\n",
       "taxes             False\n",
       "fips_id           False\n",
       "dtype: bool"
      ]
     },
     "execution_count": 17,
     "metadata": {},
     "output_type": "execute_result"
    }
   ],
   "source": [
    "#what kind of nulls am I looking at here?\n",
    "df.isnull().any()"
   ]
  },
  {
   "cell_type": "code",
   "execution_count": 18,
   "id": "805ef07f",
   "metadata": {},
   "outputs": [
    {
     "data": {
      "text/plain": [
       "bedroom_count       0\n",
       "bathroom_count      0\n",
       "square_footage      0\n",
       "tax_value           0\n",
       "year_built        846\n",
       "taxes               0\n",
       "fips_id             0\n",
       "dtype: int64"
      ]
     },
     "execution_count": 18,
     "metadata": {},
     "output_type": "execute_result"
    }
   ],
   "source": [
    "#sum of nulls by column\n",
    "df.isnull().sum()"
   ]
  },
  {
   "cell_type": "code",
   "execution_count": 19,
   "id": "acb70dce",
   "metadata": {},
   "outputs": [
    {
     "data": {
      "text/plain": [
       "Index(['year_built'], dtype='object')"
      ]
     },
     "execution_count": 19,
     "metadata": {},
     "output_type": "execute_result"
    }
   ],
   "source": [
    "#list the columns with null values\n",
    "df.columns[df.isnull().any()]"
   ]
  },
  {
   "cell_type": "code",
   "execution_count": 20,
   "id": "4529b76a",
   "metadata": {},
   "outputs": [],
   "source": [
    "#I can afford to drop 900 rows in a dataset with over a million records\n",
    "df = df[df.year_built.notnull()]"
   ]
  },
  {
   "cell_type": "code",
   "execution_count": 21,
   "id": "1f43db48",
   "metadata": {},
   "outputs": [
    {
     "data": {
      "text/plain": [
       "False"
      ]
     },
     "execution_count": 21,
     "metadata": {},
     "output_type": "execute_result"
    }
   ],
   "source": [
    "#verify correctly done\n",
    "df.year_built.isnull().any()"
   ]
  },
  {
   "cell_type": "code",
   "execution_count": 22,
   "id": "493153be",
   "metadata": {},
   "outputs": [],
   "source": [
    "#reformat existing values to reduce noise when looking at the dataframe\n",
    "df.square_footage = df.square_footage.astype(int)\n",
    "df.year_built = df.year_built.astype(int)"
   ]
  },
  {
   "cell_type": "code",
   "execution_count": 23,
   "id": "33c2850e",
   "metadata": {},
   "outputs": [
    {
     "data": {
      "text/html": [
       "<div>\n",
       "<style scoped>\n",
       "    .dataframe tbody tr th:only-of-type {\n",
       "        vertical-align: middle;\n",
       "    }\n",
       "\n",
       "    .dataframe tbody tr th {\n",
       "        vertical-align: top;\n",
       "    }\n",
       "\n",
       "    .dataframe thead th {\n",
       "        text-align: right;\n",
       "    }\n",
       "</style>\n",
       "<table border=\"1\" class=\"dataframe\">\n",
       "  <thead>\n",
       "    <tr style=\"text-align: right;\">\n",
       "      <th></th>\n",
       "      <th>bedroom_count</th>\n",
       "      <th>bathroom_count</th>\n",
       "      <th>square_footage</th>\n",
       "      <th>tax_value</th>\n",
       "      <th>year_built</th>\n",
       "      <th>taxes</th>\n",
       "      <th>fips_id</th>\n",
       "    </tr>\n",
       "  </thead>\n",
       "  <tbody>\n",
       "    <tr>\n",
       "      <th>7</th>\n",
       "      <td>3.0</td>\n",
       "      <td>2.0</td>\n",
       "      <td>2077</td>\n",
       "      <td>646760.0</td>\n",
       "      <td>1926</td>\n",
       "      <td>7924.68</td>\n",
       "      <td>6037</td>\n",
       "    </tr>\n",
       "    <tr>\n",
       "      <th>18</th>\n",
       "      <td>3.0</td>\n",
       "      <td>1.0</td>\n",
       "      <td>1244</td>\n",
       "      <td>169471.0</td>\n",
       "      <td>1950</td>\n",
       "      <td>2532.88</td>\n",
       "      <td>6037</td>\n",
       "    </tr>\n",
       "    <tr>\n",
       "      <th>19</th>\n",
       "      <td>3.0</td>\n",
       "      <td>2.0</td>\n",
       "      <td>1300</td>\n",
       "      <td>233266.0</td>\n",
       "      <td>1950</td>\n",
       "      <td>3110.99</td>\n",
       "      <td>6037</td>\n",
       "    </tr>\n",
       "    <tr>\n",
       "      <th>20</th>\n",
       "      <td>3.0</td>\n",
       "      <td>2.0</td>\n",
       "      <td>1222</td>\n",
       "      <td>290492.0</td>\n",
       "      <td>1951</td>\n",
       "      <td>3870.25</td>\n",
       "      <td>6037</td>\n",
       "    </tr>\n",
       "    <tr>\n",
       "      <th>23</th>\n",
       "      <td>3.0</td>\n",
       "      <td>2.5</td>\n",
       "      <td>1821</td>\n",
       "      <td>537949.0</td>\n",
       "      <td>2013</td>\n",
       "      <td>6173.72</td>\n",
       "      <td>6059</td>\n",
       "    </tr>\n",
       "  </tbody>\n",
       "</table>\n",
       "</div>"
      ],
      "text/plain": [
       "    bedroom_count  bathroom_count  square_footage  tax_value  year_built  \\\n",
       "7             3.0             2.0            2077   646760.0        1926   \n",
       "18            3.0             1.0            1244   169471.0        1950   \n",
       "19            3.0             2.0            1300   233266.0        1950   \n",
       "20            3.0             2.0            1222   290492.0        1951   \n",
       "23            3.0             2.5            1821   537949.0        2013   \n",
       "\n",
       "      taxes  fips_id  \n",
       "7   7924.68     6037  \n",
       "18  2532.88     6037  \n",
       "19  3110.99     6037  \n",
       "20  3870.25     6037  \n",
       "23  6173.72     6059  "
      ]
     },
     "execution_count": 23,
     "metadata": {},
     "output_type": "execute_result"
    }
   ],
   "source": [
    "df.head()"
   ]
  },
  {
   "cell_type": "code",
   "execution_count": 24,
   "id": "44ca943f",
   "metadata": {},
   "outputs": [],
   "source": [
    "#establish ratio between tax value dollar count and tax amount for all rows\n",
    "df['tax_ratio'] = df.tax_value / df.taxes"
   ]
  },
  {
   "cell_type": "code",
   "execution_count": 25,
   "id": "16267dd4",
   "metadata": {
    "scrolled": true
   },
   "outputs": [
    {
     "data": {
      "text/plain": [
       "count    1.809134e+06\n",
       "mean     7.884113e+01\n",
       "std      5.107850e+01\n",
       "min      3.219043e-03\n",
       "25%      7.276854e+01\n",
       "50%      8.003194e+01\n",
       "75%      8.422899e+01\n",
       "max      2.794460e+04\n",
       "Name: tax_ratio, dtype: float64"
      ]
     },
     "execution_count": 25,
     "metadata": {},
     "output_type": "execute_result"
    }
   ],
   "source": [
    "#get a feel for this new feature\n",
    "df.tax_ratio.describe().T"
   ]
  },
  {
   "cell_type": "code",
   "execution_count": 26,
   "id": "b8f898f6",
   "metadata": {},
   "outputs": [
    {
     "data": {
      "text/plain": [
       "'1,809,134'"
      ]
     },
     "execution_count": 26,
     "metadata": {},
     "output_type": "execute_result"
    }
   ],
   "source": [
    "#no. of observations at this point in time\n",
    "mf.add_commas(len(df))"
   ]
  },
  {
   "cell_type": "code",
   "execution_count": 27,
   "id": "a72ee1cd",
   "metadata": {},
   "outputs": [
    {
     "data": {
      "text/plain": [
       "6037    1214251\n",
       "6059     453351\n",
       "6111     141532\n",
       "Name: fips_id, dtype: int64"
      ]
     },
     "execution_count": 27,
     "metadata": {},
     "output_type": "execute_result"
    }
   ],
   "source": [
    "df.fips_id.value_counts()\n",
    "#6037 = Los Angeles County\n",
    "#6059 = Orange County\n",
    "#6111 = Ventura County\n",
    "#all zillow single family residential properties in California? "
   ]
  },
  {
   "cell_type": "code",
   "execution_count": 28,
   "id": "259eefa4",
   "metadata": {},
   "outputs": [],
   "source": [
    "los_angeles_county = df[df.fips_id == 6037]\n",
    "orange_county = df[df.fips_id == 6059]\n",
    "ventura_county = df[df.fips_id == 6111]"
   ]
  },
  {
   "cell_type": "code",
   "execution_count": 29,
   "id": "e6f5e812",
   "metadata": {},
   "outputs": [
    {
     "data": {
      "text/plain": [
       "count    1.214251e+06\n",
       "mean     2.938252e+05\n",
       "std      1.780512e+05\n",
       "min      2.200000e+01\n",
       "25%      1.557340e+05\n",
       "50%      2.638560e+05\n",
       "75%      4.051970e+05\n",
       "max      8.767450e+05\n",
       "Name: tax_value, dtype: float64"
      ]
     },
     "execution_count": 29,
     "metadata": {},
     "output_type": "execute_result"
    }
   ],
   "source": [
    "los_angeles_county.tax_value.describe()"
   ]
  },
  {
   "cell_type": "code",
   "execution_count": 30,
   "id": "91477fec",
   "metadata": {},
   "outputs": [
    {
     "data": {
      "text/plain": [
       "count    453351.000000\n",
       "mean     369940.858529\n",
       "std      201108.472357\n",
       "min        2080.000000\n",
       "25%      218503.000000\n",
       "50%      353867.000000\n",
       "75%      511137.000000\n",
       "max      877230.000000\n",
       "Name: tax_value, dtype: float64"
      ]
     },
     "execution_count": 30,
     "metadata": {},
     "output_type": "execute_result"
    }
   ],
   "source": [
    "orange_county.tax_value.describe()"
   ]
  },
  {
   "cell_type": "code",
   "execution_count": 31,
   "id": "fd1ceeed",
   "metadata": {},
   "outputs": [
    {
     "data": {
      "text/plain": [
       "count    141532.000000\n",
       "mean     354587.631751\n",
       "std      187725.453109\n",
       "min        4544.000000\n",
       "25%      219529.000000\n",
       "50%      341747.500000\n",
       "75%      480780.000000\n",
       "max      877258.000000\n",
       "Name: tax_value, dtype: float64"
      ]
     },
     "execution_count": 31,
     "metadata": {},
     "output_type": "execute_result"
    }
   ],
   "source": [
    "ventura_county.tax_value.describe()"
   ]
  },
  {
   "cell_type": "code",
   "execution_count": 32,
   "id": "031c5b36",
   "metadata": {},
   "outputs": [
    {
     "data": {
      "text/html": [
       "<div>\n",
       "<style scoped>\n",
       "    .dataframe tbody tr th:only-of-type {\n",
       "        vertical-align: middle;\n",
       "    }\n",
       "\n",
       "    .dataframe tbody tr th {\n",
       "        vertical-align: top;\n",
       "    }\n",
       "\n",
       "    .dataframe thead th {\n",
       "        text-align: right;\n",
       "    }\n",
       "</style>\n",
       "<table border=\"1\" class=\"dataframe\">\n",
       "  <thead>\n",
       "    <tr style=\"text-align: right;\">\n",
       "      <th></th>\n",
       "      <th>bedroom_count</th>\n",
       "      <th>bathroom_count</th>\n",
       "      <th>square_footage</th>\n",
       "      <th>tax_value</th>\n",
       "      <th>year_built</th>\n",
       "      <th>taxes</th>\n",
       "      <th>fips_id</th>\n",
       "      <th>tax_ratio</th>\n",
       "    </tr>\n",
       "  </thead>\n",
       "  <tbody>\n",
       "    <tr>\n",
       "      <th>7</th>\n",
       "      <td>3.0</td>\n",
       "      <td>2.0</td>\n",
       "      <td>2077</td>\n",
       "      <td>646760.0</td>\n",
       "      <td>1926</td>\n",
       "      <td>7924.68</td>\n",
       "      <td>6037</td>\n",
       "      <td>81.613390</td>\n",
       "    </tr>\n",
       "    <tr>\n",
       "      <th>18</th>\n",
       "      <td>3.0</td>\n",
       "      <td>1.0</td>\n",
       "      <td>1244</td>\n",
       "      <td>169471.0</td>\n",
       "      <td>1950</td>\n",
       "      <td>2532.88</td>\n",
       "      <td>6037</td>\n",
       "      <td>66.908420</td>\n",
       "    </tr>\n",
       "    <tr>\n",
       "      <th>19</th>\n",
       "      <td>3.0</td>\n",
       "      <td>2.0</td>\n",
       "      <td>1300</td>\n",
       "      <td>233266.0</td>\n",
       "      <td>1950</td>\n",
       "      <td>3110.99</td>\n",
       "      <td>6037</td>\n",
       "      <td>74.981276</td>\n",
       "    </tr>\n",
       "    <tr>\n",
       "      <th>20</th>\n",
       "      <td>3.0</td>\n",
       "      <td>2.0</td>\n",
       "      <td>1222</td>\n",
       "      <td>290492.0</td>\n",
       "      <td>1951</td>\n",
       "      <td>3870.25</td>\n",
       "      <td>6037</td>\n",
       "      <td>75.057684</td>\n",
       "    </tr>\n",
       "    <tr>\n",
       "      <th>23</th>\n",
       "      <td>3.0</td>\n",
       "      <td>2.5</td>\n",
       "      <td>1821</td>\n",
       "      <td>537949.0</td>\n",
       "      <td>2013</td>\n",
       "      <td>6173.72</td>\n",
       "      <td>6059</td>\n",
       "      <td>87.135309</td>\n",
       "    </tr>\n",
       "  </tbody>\n",
       "</table>\n",
       "</div>"
      ],
      "text/plain": [
       "    bedroom_count  bathroom_count  square_footage  tax_value  year_built  \\\n",
       "7             3.0             2.0            2077   646760.0        1926   \n",
       "18            3.0             1.0            1244   169471.0        1950   \n",
       "19            3.0             2.0            1300   233266.0        1950   \n",
       "20            3.0             2.0            1222   290492.0        1951   \n",
       "23            3.0             2.5            1821   537949.0        2013   \n",
       "\n",
       "      taxes  fips_id  tax_ratio  \n",
       "7   7924.68     6037  81.613390  \n",
       "18  2532.88     6037  66.908420  \n",
       "19  3110.99     6037  74.981276  \n",
       "20  3870.25     6037  75.057684  \n",
       "23  6173.72     6059  87.135309  "
      ]
     },
     "execution_count": 32,
     "metadata": {},
     "output_type": "execute_result"
    }
   ],
   "source": [
    "df.head()"
   ]
  },
  {
   "cell_type": "code",
   "execution_count": 33,
   "id": "63e12fa3",
   "metadata": {},
   "outputs": [],
   "source": [
    "#let's get dummies\n",
    "dummy_df = pd.get_dummies(df['fips_id'], dummy_na = False, drop_first = False)"
   ]
  },
  {
   "cell_type": "code",
   "execution_count": 34,
   "id": "77f912f9",
   "metadata": {},
   "outputs": [
    {
     "data": {
      "text/html": [
       "<div>\n",
       "<style scoped>\n",
       "    .dataframe tbody tr th:only-of-type {\n",
       "        vertical-align: middle;\n",
       "    }\n",
       "\n",
       "    .dataframe tbody tr th {\n",
       "        vertical-align: top;\n",
       "    }\n",
       "\n",
       "    .dataframe thead th {\n",
       "        text-align: right;\n",
       "    }\n",
       "</style>\n",
       "<table border=\"1\" class=\"dataframe\">\n",
       "  <thead>\n",
       "    <tr style=\"text-align: right;\">\n",
       "      <th></th>\n",
       "      <th>6037</th>\n",
       "      <th>6059</th>\n",
       "      <th>6111</th>\n",
       "    </tr>\n",
       "  </thead>\n",
       "  <tbody>\n",
       "    <tr>\n",
       "      <th>7</th>\n",
       "      <td>1</td>\n",
       "      <td>0</td>\n",
       "      <td>0</td>\n",
       "    </tr>\n",
       "    <tr>\n",
       "      <th>18</th>\n",
       "      <td>1</td>\n",
       "      <td>0</td>\n",
       "      <td>0</td>\n",
       "    </tr>\n",
       "    <tr>\n",
       "      <th>19</th>\n",
       "      <td>1</td>\n",
       "      <td>0</td>\n",
       "      <td>0</td>\n",
       "    </tr>\n",
       "    <tr>\n",
       "      <th>20</th>\n",
       "      <td>1</td>\n",
       "      <td>0</td>\n",
       "      <td>0</td>\n",
       "    </tr>\n",
       "    <tr>\n",
       "      <th>23</th>\n",
       "      <td>0</td>\n",
       "      <td>1</td>\n",
       "      <td>0</td>\n",
       "    </tr>\n",
       "  </tbody>\n",
       "</table>\n",
       "</div>"
      ],
      "text/plain": [
       "    6037  6059  6111\n",
       "7      1     0     0\n",
       "18     1     0     0\n",
       "19     1     0     0\n",
       "20     1     0     0\n",
       "23     0     1     0"
      ]
     },
     "execution_count": 34,
     "metadata": {},
     "output_type": "execute_result"
    }
   ],
   "source": [
    "dummy_df.head()"
   ]
  },
  {
   "cell_type": "code",
   "execution_count": 35,
   "id": "1cee3dde",
   "metadata": {},
   "outputs": [],
   "source": [
    "dummy_df = dummy_df.rename(columns = {6037: 'LA_county',\n",
    "                                      6059: 'orange_county',\n",
    "                                      6111: 'ventura_county'\n",
    "                                     })"
   ]
  },
  {
   "cell_type": "code",
   "execution_count": 36,
   "id": "5ad3fcd3",
   "metadata": {},
   "outputs": [],
   "source": [
    "df = pd.concat([df, dummy_df], axis = 1)"
   ]
  },
  {
   "cell_type": "code",
   "execution_count": 37,
   "id": "a3906ab0",
   "metadata": {},
   "outputs": [
    {
     "data": {
      "text/html": [
       "<div>\n",
       "<style scoped>\n",
       "    .dataframe tbody tr th:only-of-type {\n",
       "        vertical-align: middle;\n",
       "    }\n",
       "\n",
       "    .dataframe tbody tr th {\n",
       "        vertical-align: top;\n",
       "    }\n",
       "\n",
       "    .dataframe thead th {\n",
       "        text-align: right;\n",
       "    }\n",
       "</style>\n",
       "<table border=\"1\" class=\"dataframe\">\n",
       "  <thead>\n",
       "    <tr style=\"text-align: right;\">\n",
       "      <th></th>\n",
       "      <th>bedroom_count</th>\n",
       "      <th>bathroom_count</th>\n",
       "      <th>square_footage</th>\n",
       "      <th>tax_value</th>\n",
       "      <th>year_built</th>\n",
       "      <th>taxes</th>\n",
       "      <th>fips_id</th>\n",
       "      <th>tax_ratio</th>\n",
       "      <th>LA_county</th>\n",
       "      <th>orange_county</th>\n",
       "      <th>ventura_county</th>\n",
       "    </tr>\n",
       "  </thead>\n",
       "  <tbody>\n",
       "    <tr>\n",
       "      <th>7</th>\n",
       "      <td>3.0</td>\n",
       "      <td>2.0</td>\n",
       "      <td>2077</td>\n",
       "      <td>646760.0</td>\n",
       "      <td>1926</td>\n",
       "      <td>7924.68</td>\n",
       "      <td>6037</td>\n",
       "      <td>81.613390</td>\n",
       "      <td>1</td>\n",
       "      <td>0</td>\n",
       "      <td>0</td>\n",
       "    </tr>\n",
       "    <tr>\n",
       "      <th>18</th>\n",
       "      <td>3.0</td>\n",
       "      <td>1.0</td>\n",
       "      <td>1244</td>\n",
       "      <td>169471.0</td>\n",
       "      <td>1950</td>\n",
       "      <td>2532.88</td>\n",
       "      <td>6037</td>\n",
       "      <td>66.908420</td>\n",
       "      <td>1</td>\n",
       "      <td>0</td>\n",
       "      <td>0</td>\n",
       "    </tr>\n",
       "    <tr>\n",
       "      <th>19</th>\n",
       "      <td>3.0</td>\n",
       "      <td>2.0</td>\n",
       "      <td>1300</td>\n",
       "      <td>233266.0</td>\n",
       "      <td>1950</td>\n",
       "      <td>3110.99</td>\n",
       "      <td>6037</td>\n",
       "      <td>74.981276</td>\n",
       "      <td>1</td>\n",
       "      <td>0</td>\n",
       "      <td>0</td>\n",
       "    </tr>\n",
       "    <tr>\n",
       "      <th>20</th>\n",
       "      <td>3.0</td>\n",
       "      <td>2.0</td>\n",
       "      <td>1222</td>\n",
       "      <td>290492.0</td>\n",
       "      <td>1951</td>\n",
       "      <td>3870.25</td>\n",
       "      <td>6037</td>\n",
       "      <td>75.057684</td>\n",
       "      <td>1</td>\n",
       "      <td>0</td>\n",
       "      <td>0</td>\n",
       "    </tr>\n",
       "    <tr>\n",
       "      <th>23</th>\n",
       "      <td>3.0</td>\n",
       "      <td>2.5</td>\n",
       "      <td>1821</td>\n",
       "      <td>537949.0</td>\n",
       "      <td>2013</td>\n",
       "      <td>6173.72</td>\n",
       "      <td>6059</td>\n",
       "      <td>87.135309</td>\n",
       "      <td>0</td>\n",
       "      <td>1</td>\n",
       "      <td>0</td>\n",
       "    </tr>\n",
       "  </tbody>\n",
       "</table>\n",
       "</div>"
      ],
      "text/plain": [
       "    bedroom_count  bathroom_count  square_footage  tax_value  year_built  \\\n",
       "7             3.0             2.0            2077   646760.0        1926   \n",
       "18            3.0             1.0            1244   169471.0        1950   \n",
       "19            3.0             2.0            1300   233266.0        1950   \n",
       "20            3.0             2.0            1222   290492.0        1951   \n",
       "23            3.0             2.5            1821   537949.0        2013   \n",
       "\n",
       "      taxes  fips_id  tax_ratio  LA_county  orange_county  ventura_county  \n",
       "7   7924.68     6037  81.613390          1              0               0  \n",
       "18  2532.88     6037  66.908420          1              0               0  \n",
       "19  3110.99     6037  74.981276          1              0               0  \n",
       "20  3870.25     6037  75.057684          1              0               0  \n",
       "23  6173.72     6059  87.135309          0              1               0  "
      ]
     },
     "execution_count": 37,
     "metadata": {},
     "output_type": "execute_result"
    }
   ],
   "source": [
    "df.head()"
   ]
  },
  {
   "cell_type": "markdown",
   "id": "2ac7a082",
   "metadata": {},
   "source": [
    "### Exercise III\n",
    "Store all of the necessary functions to automate your process from acquiring the data to returning a cleaned dataframe witn no missing values in your wrangle.py file. Name your final function wrangle_zillow."
   ]
  },
  {
   "cell_type": "code",
   "execution_count": 38,
   "id": "77c8306c",
   "metadata": {},
   "outputs": [],
   "source": [
    "import wrangle"
   ]
  },
  {
   "cell_type": "code",
   "execution_count": 39,
   "id": "1402a7e6",
   "metadata": {},
   "outputs": [],
   "source": [
    "#load pre-split data for univariate stats (distributions)\n",
    "df = wrangle.prep_zillow()"
   ]
  },
  {
   "cell_type": "code",
   "execution_count": 40,
   "id": "788c0104",
   "metadata": {},
   "outputs": [
    {
     "data": {
      "text/html": [
       "<div>\n",
       "<style scoped>\n",
       "    .dataframe tbody tr th:only-of-type {\n",
       "        vertical-align: middle;\n",
       "    }\n",
       "\n",
       "    .dataframe tbody tr th {\n",
       "        vertical-align: top;\n",
       "    }\n",
       "\n",
       "    .dataframe thead th {\n",
       "        text-align: right;\n",
       "    }\n",
       "</style>\n",
       "<table border=\"1\" class=\"dataframe\">\n",
       "  <thead>\n",
       "    <tr style=\"text-align: right;\">\n",
       "      <th></th>\n",
       "      <th>bedroom_count</th>\n",
       "      <th>bathroom_count</th>\n",
       "      <th>square_footage</th>\n",
       "      <th>tax_value</th>\n",
       "      <th>year_built</th>\n",
       "      <th>taxes</th>\n",
       "      <th>fips_id</th>\n",
       "      <th>tax_ratio</th>\n",
       "      <th>LA_county</th>\n",
       "      <th>orange_county</th>\n",
       "      <th>ventura_county</th>\n",
       "    </tr>\n",
       "  </thead>\n",
       "  <tbody>\n",
       "    <tr>\n",
       "      <th>7</th>\n",
       "      <td>3.0</td>\n",
       "      <td>2.0</td>\n",
       "      <td>2077</td>\n",
       "      <td>646760.0</td>\n",
       "      <td>1926</td>\n",
       "      <td>7924.68</td>\n",
       "      <td>6037</td>\n",
       "      <td>81.613390</td>\n",
       "      <td>1</td>\n",
       "      <td>0</td>\n",
       "      <td>0</td>\n",
       "    </tr>\n",
       "    <tr>\n",
       "      <th>18</th>\n",
       "      <td>3.0</td>\n",
       "      <td>1.0</td>\n",
       "      <td>1244</td>\n",
       "      <td>169471.0</td>\n",
       "      <td>1950</td>\n",
       "      <td>2532.88</td>\n",
       "      <td>6037</td>\n",
       "      <td>66.908420</td>\n",
       "      <td>1</td>\n",
       "      <td>0</td>\n",
       "      <td>0</td>\n",
       "    </tr>\n",
       "    <tr>\n",
       "      <th>19</th>\n",
       "      <td>3.0</td>\n",
       "      <td>2.0</td>\n",
       "      <td>1300</td>\n",
       "      <td>233266.0</td>\n",
       "      <td>1950</td>\n",
       "      <td>3110.99</td>\n",
       "      <td>6037</td>\n",
       "      <td>74.981276</td>\n",
       "      <td>1</td>\n",
       "      <td>0</td>\n",
       "      <td>0</td>\n",
       "    </tr>\n",
       "    <tr>\n",
       "      <th>20</th>\n",
       "      <td>3.0</td>\n",
       "      <td>2.0</td>\n",
       "      <td>1222</td>\n",
       "      <td>290492.0</td>\n",
       "      <td>1951</td>\n",
       "      <td>3870.25</td>\n",
       "      <td>6037</td>\n",
       "      <td>75.057684</td>\n",
       "      <td>1</td>\n",
       "      <td>0</td>\n",
       "      <td>0</td>\n",
       "    </tr>\n",
       "    <tr>\n",
       "      <th>23</th>\n",
       "      <td>3.0</td>\n",
       "      <td>2.5</td>\n",
       "      <td>1821</td>\n",
       "      <td>537949.0</td>\n",
       "      <td>2013</td>\n",
       "      <td>6173.72</td>\n",
       "      <td>6059</td>\n",
       "      <td>87.135309</td>\n",
       "      <td>0</td>\n",
       "      <td>1</td>\n",
       "      <td>0</td>\n",
       "    </tr>\n",
       "  </tbody>\n",
       "</table>\n",
       "</div>"
      ],
      "text/plain": [
       "    bedroom_count  bathroom_count  square_footage  tax_value  year_built  \\\n",
       "7             3.0             2.0            2077   646760.0        1926   \n",
       "18            3.0             1.0            1244   169471.0        1950   \n",
       "19            3.0             2.0            1300   233266.0        1950   \n",
       "20            3.0             2.0            1222   290492.0        1951   \n",
       "23            3.0             2.5            1821   537949.0        2013   \n",
       "\n",
       "      taxes  fips_id  tax_ratio  LA_county  orange_county  ventura_county  \n",
       "7   7924.68     6037  81.613390          1              0               0  \n",
       "18  2532.88     6037  66.908420          1              0               0  \n",
       "19  3110.99     6037  74.981276          1              0               0  \n",
       "20  3870.25     6037  75.057684          1              0               0  \n",
       "23  6173.72     6059  87.135309          0              1               0  "
      ]
     },
     "execution_count": 40,
     "metadata": {},
     "output_type": "execute_result"
    }
   ],
   "source": [
    "#quick check\n",
    "df.head()"
   ]
  },
  {
   "cell_type": "code",
   "execution_count": 41,
   "id": "7911ce65",
   "metadata": {},
   "outputs": [],
   "source": [
    "#wrangle\n",
    "train, validate, test = wrangle.wrangle_zillow()"
   ]
  },
  {
   "cell_type": "code",
   "execution_count": 42,
   "id": "176525b5",
   "metadata": {},
   "outputs": [
    {
     "data": {
      "text/plain": [
       "((1013114, 11), (434193, 11), (361827, 11))"
      ]
     },
     "execution_count": 42,
     "metadata": {},
     "output_type": "execute_result"
    }
   ],
   "source": [
    "#verify split\n",
    "train.shape, validate.shape, test.shape"
   ]
  },
  {
   "cell_type": "code",
   "execution_count": 43,
   "id": "3ffb1842",
   "metadata": {},
   "outputs": [
    {
     "data": {
      "text/html": [
       "<div>\n",
       "<style scoped>\n",
       "    .dataframe tbody tr th:only-of-type {\n",
       "        vertical-align: middle;\n",
       "    }\n",
       "\n",
       "    .dataframe tbody tr th {\n",
       "        vertical-align: top;\n",
       "    }\n",
       "\n",
       "    .dataframe thead th {\n",
       "        text-align: right;\n",
       "    }\n",
       "</style>\n",
       "<table border=\"1\" class=\"dataframe\">\n",
       "  <thead>\n",
       "    <tr style=\"text-align: right;\">\n",
       "      <th></th>\n",
       "      <th>bedroom_count</th>\n",
       "      <th>bathroom_count</th>\n",
       "      <th>square_footage</th>\n",
       "      <th>tax_value</th>\n",
       "      <th>year_built</th>\n",
       "      <th>taxes</th>\n",
       "      <th>fips_id</th>\n",
       "      <th>tax_ratio</th>\n",
       "      <th>LA_county</th>\n",
       "      <th>orange_county</th>\n",
       "      <th>ventura_county</th>\n",
       "    </tr>\n",
       "  </thead>\n",
       "  <tbody>\n",
       "    <tr>\n",
       "      <th>1402662</th>\n",
       "      <td>5.0</td>\n",
       "      <td>3.0</td>\n",
       "      <td>2178</td>\n",
       "      <td>221092.0</td>\n",
       "      <td>1940</td>\n",
       "      <td>3304.20</td>\n",
       "      <td>6037</td>\n",
       "      <td>66.912415</td>\n",
       "      <td>1</td>\n",
       "      <td>0</td>\n",
       "      <td>0</td>\n",
       "    </tr>\n",
       "    <tr>\n",
       "      <th>1226039</th>\n",
       "      <td>2.0</td>\n",
       "      <td>2.0</td>\n",
       "      <td>1145</td>\n",
       "      <td>422081.0</td>\n",
       "      <td>1957</td>\n",
       "      <td>5083.80</td>\n",
       "      <td>6059</td>\n",
       "      <td>83.024706</td>\n",
       "      <td>0</td>\n",
       "      <td>1</td>\n",
       "      <td>0</td>\n",
       "    </tr>\n",
       "    <tr>\n",
       "      <th>1678272</th>\n",
       "      <td>3.0</td>\n",
       "      <td>2.0</td>\n",
       "      <td>1441</td>\n",
       "      <td>297583.0</td>\n",
       "      <td>1977</td>\n",
       "      <td>3096.14</td>\n",
       "      <td>6059</td>\n",
       "      <td>96.114194</td>\n",
       "      <td>0</td>\n",
       "      <td>1</td>\n",
       "      <td>0</td>\n",
       "    </tr>\n",
       "    <tr>\n",
       "      <th>1309993</th>\n",
       "      <td>3.0</td>\n",
       "      <td>2.0</td>\n",
       "      <td>1205</td>\n",
       "      <td>64559.0</td>\n",
       "      <td>1956</td>\n",
       "      <td>1151.29</td>\n",
       "      <td>6037</td>\n",
       "      <td>56.075359</td>\n",
       "      <td>1</td>\n",
       "      <td>0</td>\n",
       "      <td>0</td>\n",
       "    </tr>\n",
       "    <tr>\n",
       "      <th>884898</th>\n",
       "      <td>3.0</td>\n",
       "      <td>3.0</td>\n",
       "      <td>2231</td>\n",
       "      <td>590253.0</td>\n",
       "      <td>1968</td>\n",
       "      <td>7227.85</td>\n",
       "      <td>6037</td>\n",
       "      <td>81.663704</td>\n",
       "      <td>1</td>\n",
       "      <td>0</td>\n",
       "      <td>0</td>\n",
       "    </tr>\n",
       "  </tbody>\n",
       "</table>\n",
       "</div>"
      ],
      "text/plain": [
       "         bedroom_count  bathroom_count  square_footage  tax_value  year_built  \\\n",
       "1402662            5.0             3.0            2178   221092.0        1940   \n",
       "1226039            2.0             2.0            1145   422081.0        1957   \n",
       "1678272            3.0             2.0            1441   297583.0        1977   \n",
       "1309993            3.0             2.0            1205    64559.0        1956   \n",
       "884898             3.0             3.0            2231   590253.0        1968   \n",
       "\n",
       "           taxes  fips_id  tax_ratio  LA_county  orange_county  ventura_county  \n",
       "1402662  3304.20     6037  66.912415          1              0               0  \n",
       "1226039  5083.80     6059  83.024706          0              1               0  \n",
       "1678272  3096.14     6059  96.114194          0              1               0  \n",
       "1309993  1151.29     6037  56.075359          1              0               0  \n",
       "884898   7227.85     6037  81.663704          1              0               0  "
      ]
     },
     "execution_count": 43,
     "metadata": {},
     "output_type": "execute_result"
    }
   ],
   "source": [
    "#looks clear\n",
    "train.head()"
   ]
  }
 ],
 "metadata": {
  "kernelspec": {
   "display_name": "Python 3",
   "language": "python",
   "name": "python3"
  },
  "language_info": {
   "codemirror_mode": {
    "name": "ipython",
    "version": 3
   },
   "file_extension": ".py",
   "mimetype": "text/x-python",
   "name": "python",
   "nbconvert_exporter": "python",
   "pygments_lexer": "ipython3",
   "version": "3.8.8"
  }
 },
 "nbformat": 4,
 "nbformat_minor": 5
}
