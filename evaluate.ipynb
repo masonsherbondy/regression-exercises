{
 "cells": [
  {
   "cell_type": "code",
   "execution_count": 32,
   "id": "2237ea0f",
   "metadata": {},
   "outputs": [],
   "source": [
    "#imports i think i might need\n",
    "from scipy import stats\n",
    "\n",
    "from sklearn.model_selection import train_test_split\n",
    "from sklearn.metrics import mean_squared_error, r2_score, explained_variance_score\n",
    "from sklearn.linear_model import LinearRegression\n",
    "from sklearn.feature_selection import f_regression \n",
    "\n",
    "from math import sqrt\n",
    "import numpy as np\n",
    "import pandas as pd\n",
    "import matplotlib.pyplot as plt\n",
    "import seaborn as sns\n",
    "sns.set()\n",
    "import mason_functions as mf\n",
    "import warnings\n",
    "warnings.filterwarnings('ignore')"
   ]
  },
  {
   "cell_type": "markdown",
   "id": "fe0e743f",
   "metadata": {},
   "source": [
    "# Evaluate Exercises"
   ]
  },
  {
   "cell_type": "markdown",
   "id": "56b1bb41",
   "metadata": {},
   "source": [
    "## Exercise I\n",
    "Load the tips dataset from either pydataset or seaborn."
   ]
  },
  {
   "cell_type": "code",
   "execution_count": 33,
   "id": "ca9cdc04",
   "metadata": {},
   "outputs": [],
   "source": [
    "#load\n",
    "tips = sns.load_dataset('tips')"
   ]
  },
  {
   "cell_type": "code",
   "execution_count": 34,
   "id": "273bd685",
   "metadata": {},
   "outputs": [
    {
     "data": {
      "text/html": [
       "<div>\n",
       "<style scoped>\n",
       "    .dataframe tbody tr th:only-of-type {\n",
       "        vertical-align: middle;\n",
       "    }\n",
       "\n",
       "    .dataframe tbody tr th {\n",
       "        vertical-align: top;\n",
       "    }\n",
       "\n",
       "    .dataframe thead th {\n",
       "        text-align: right;\n",
       "    }\n",
       "</style>\n",
       "<table border=\"1\" class=\"dataframe\">\n",
       "  <thead>\n",
       "    <tr style=\"text-align: right;\">\n",
       "      <th></th>\n",
       "      <th>total_bill</th>\n",
       "      <th>tip</th>\n",
       "      <th>sex</th>\n",
       "      <th>smoker</th>\n",
       "      <th>day</th>\n",
       "      <th>time</th>\n",
       "      <th>size</th>\n",
       "    </tr>\n",
       "  </thead>\n",
       "  <tbody>\n",
       "    <tr>\n",
       "      <th>0</th>\n",
       "      <td>16.99</td>\n",
       "      <td>1.01</td>\n",
       "      <td>Female</td>\n",
       "      <td>No</td>\n",
       "      <td>Sun</td>\n",
       "      <td>Dinner</td>\n",
       "      <td>2</td>\n",
       "    </tr>\n",
       "    <tr>\n",
       "      <th>1</th>\n",
       "      <td>10.34</td>\n",
       "      <td>1.66</td>\n",
       "      <td>Male</td>\n",
       "      <td>No</td>\n",
       "      <td>Sun</td>\n",
       "      <td>Dinner</td>\n",
       "      <td>3</td>\n",
       "    </tr>\n",
       "    <tr>\n",
       "      <th>2</th>\n",
       "      <td>21.01</td>\n",
       "      <td>3.50</td>\n",
       "      <td>Male</td>\n",
       "      <td>No</td>\n",
       "      <td>Sun</td>\n",
       "      <td>Dinner</td>\n",
       "      <td>3</td>\n",
       "    </tr>\n",
       "    <tr>\n",
       "      <th>3</th>\n",
       "      <td>23.68</td>\n",
       "      <td>3.31</td>\n",
       "      <td>Male</td>\n",
       "      <td>No</td>\n",
       "      <td>Sun</td>\n",
       "      <td>Dinner</td>\n",
       "      <td>2</td>\n",
       "    </tr>\n",
       "    <tr>\n",
       "      <th>4</th>\n",
       "      <td>24.59</td>\n",
       "      <td>3.61</td>\n",
       "      <td>Female</td>\n",
       "      <td>No</td>\n",
       "      <td>Sun</td>\n",
       "      <td>Dinner</td>\n",
       "      <td>4</td>\n",
       "    </tr>\n",
       "  </tbody>\n",
       "</table>\n",
       "</div>"
      ],
      "text/plain": [
       "   total_bill   tip     sex smoker  day    time  size\n",
       "0       16.99  1.01  Female     No  Sun  Dinner     2\n",
       "1       10.34  1.66    Male     No  Sun  Dinner     3\n",
       "2       21.01  3.50    Male     No  Sun  Dinner     3\n",
       "3       23.68  3.31    Male     No  Sun  Dinner     2\n",
       "4       24.59  3.61  Female     No  Sun  Dinner     4"
      ]
     },
     "execution_count": 34,
     "metadata": {},
     "output_type": "execute_result"
    }
   ],
   "source": [
    "#fire\n",
    "tips.head()"
   ]
  },
  {
   "cell_type": "code",
   "execution_count": 35,
   "id": "5fdf5708",
   "metadata": {},
   "outputs": [
    {
     "name": "stdout",
     "output_type": "stream",
     "text": [
      "<class 'pandas.core.frame.DataFrame'>\n",
      "RangeIndex: 244 entries, 0 to 243\n",
      "Data columns (total 7 columns):\n",
      " #   Column      Non-Null Count  Dtype   \n",
      "---  ------      --------------  -----   \n",
      " 0   total_bill  244 non-null    float64 \n",
      " 1   tip         244 non-null    float64 \n",
      " 2   sex         244 non-null    category\n",
      " 3   smoker      244 non-null    category\n",
      " 4   day         244 non-null    category\n",
      " 5   time        244 non-null    category\n",
      " 6   size        244 non-null    int64   \n",
      "dtypes: category(4), float64(2), int64(1)\n",
      "memory usage: 7.4 KB\n"
     ]
    }
   ],
   "source": [
    "#yuh\n",
    "tips.info()"
   ]
  },
  {
   "cell_type": "markdown",
   "id": "b0b2376d",
   "metadata": {},
   "source": [
    "## Exercise II\n",
    "Fit a linear regression model (ordinary least squares) and compute yhat, predictions of tip using total_bill.\n",
    "\n",
    "Here is some sample code to get you started:"
   ]
  },
  {
   "cell_type": "code",
   "execution_count": 36,
   "id": "ca8a748b",
   "metadata": {},
   "outputs": [],
   "source": [
    "#from sklearn.linear_model import LinearRegression\n",
    "\n",
    "# assuming X and y are already defined\n",
    "#model = LinearRegression().fit(X, y)\n",
    "#predictions = model.predict(X)"
   ]
  },
  {
   "cell_type": "markdown",
   "id": "89ae21e4",
   "metadata": {},
   "source": [
    "Modify and add to the code above as necessary for it to work with the tips dataset."
   ]
  },
  {
   "cell_type": "code",
   "execution_count": 37,
   "id": "119c8da2",
   "metadata": {},
   "outputs": [
    {
     "data": {
      "text/plain": [
       "2.9982786885245902"
      ]
     },
     "execution_count": 37,
     "metadata": {},
     "output_type": "execute_result"
    }
   ],
   "source": [
    "#is this my baseline?\n",
    "tips.tip.mean()"
   ]
  },
  {
   "cell_type": "code",
   "execution_count": 38,
   "id": "b419ffb9",
   "metadata": {},
   "outputs": [
    {
     "data": {
      "text/plain": [
       "2.9"
      ]
     },
     "execution_count": 38,
     "metadata": {},
     "output_type": "execute_result"
    }
   ],
   "source": [
    "#this my baseline?\n",
    "tips.tip.median()"
   ]
  },
  {
   "cell_type": "code",
   "execution_count": 39,
   "id": "7a14ecc3",
   "metadata": {},
   "outputs": [],
   "source": [
    "#this my baseline\n",
    "baseline = tips.tip.mean()\n",
    "tips['baseline'] = tips.tip.mean()"
   ]
  },
  {
   "cell_type": "code",
   "execution_count": 40,
   "id": "2e9d83ae",
   "metadata": {},
   "outputs": [],
   "source": [
    "#x and y\n",
    "X = tips[['total_bill']]\n",
    "y = tips['tip']\n",
    "\n",
    "#create object\n",
    "lm = LinearRegression(normalize = True)\n",
    "\n",
    "#fit object\n",
    "lm.fit(X, y)\n",
    "\n",
    "#predict\n",
    "tips['y_hat'] = lm.predict(X)"
   ]
  },
  {
   "cell_type": "code",
   "execution_count": 41,
   "id": "f961cea9",
   "metadata": {},
   "outputs": [
    {
     "data": {
      "text/html": [
       "<div>\n",
       "<style scoped>\n",
       "    .dataframe tbody tr th:only-of-type {\n",
       "        vertical-align: middle;\n",
       "    }\n",
       "\n",
       "    .dataframe tbody tr th {\n",
       "        vertical-align: top;\n",
       "    }\n",
       "\n",
       "    .dataframe thead th {\n",
       "        text-align: right;\n",
       "    }\n",
       "</style>\n",
       "<table border=\"1\" class=\"dataframe\">\n",
       "  <thead>\n",
       "    <tr style=\"text-align: right;\">\n",
       "      <th></th>\n",
       "      <th>total_bill</th>\n",
       "      <th>tip</th>\n",
       "      <th>sex</th>\n",
       "      <th>smoker</th>\n",
       "      <th>day</th>\n",
       "      <th>time</th>\n",
       "      <th>size</th>\n",
       "      <th>baseline</th>\n",
       "      <th>y_hat</th>\n",
       "    </tr>\n",
       "  </thead>\n",
       "  <tbody>\n",
       "    <tr>\n",
       "      <th>0</th>\n",
       "      <td>16.99</td>\n",
       "      <td>1.01</td>\n",
       "      <td>Female</td>\n",
       "      <td>No</td>\n",
       "      <td>Sun</td>\n",
       "      <td>Dinner</td>\n",
       "      <td>2</td>\n",
       "      <td>2.998279</td>\n",
       "      <td>2.704636</td>\n",
       "    </tr>\n",
       "    <tr>\n",
       "      <th>1</th>\n",
       "      <td>10.34</td>\n",
       "      <td>1.66</td>\n",
       "      <td>Male</td>\n",
       "      <td>No</td>\n",
       "      <td>Sun</td>\n",
       "      <td>Dinner</td>\n",
       "      <td>3</td>\n",
       "      <td>2.998279</td>\n",
       "      <td>2.006223</td>\n",
       "    </tr>\n",
       "    <tr>\n",
       "      <th>2</th>\n",
       "      <td>21.01</td>\n",
       "      <td>3.50</td>\n",
       "      <td>Male</td>\n",
       "      <td>No</td>\n",
       "      <td>Sun</td>\n",
       "      <td>Dinner</td>\n",
       "      <td>3</td>\n",
       "      <td>2.998279</td>\n",
       "      <td>3.126835</td>\n",
       "    </tr>\n",
       "    <tr>\n",
       "      <th>3</th>\n",
       "      <td>23.68</td>\n",
       "      <td>3.31</td>\n",
       "      <td>Male</td>\n",
       "      <td>No</td>\n",
       "      <td>Sun</td>\n",
       "      <td>Dinner</td>\n",
       "      <td>2</td>\n",
       "      <td>2.998279</td>\n",
       "      <td>3.407250</td>\n",
       "    </tr>\n",
       "    <tr>\n",
       "      <th>4</th>\n",
       "      <td>24.59</td>\n",
       "      <td>3.61</td>\n",
       "      <td>Female</td>\n",
       "      <td>No</td>\n",
       "      <td>Sun</td>\n",
       "      <td>Dinner</td>\n",
       "      <td>4</td>\n",
       "      <td>2.998279</td>\n",
       "      <td>3.502822</td>\n",
       "    </tr>\n",
       "    <tr>\n",
       "      <th>...</th>\n",
       "      <td>...</td>\n",
       "      <td>...</td>\n",
       "      <td>...</td>\n",
       "      <td>...</td>\n",
       "      <td>...</td>\n",
       "      <td>...</td>\n",
       "      <td>...</td>\n",
       "      <td>...</td>\n",
       "      <td>...</td>\n",
       "    </tr>\n",
       "    <tr>\n",
       "      <th>239</th>\n",
       "      <td>29.03</td>\n",
       "      <td>5.92</td>\n",
       "      <td>Male</td>\n",
       "      <td>No</td>\n",
       "      <td>Sat</td>\n",
       "      <td>Dinner</td>\n",
       "      <td>3</td>\n",
       "      <td>2.998279</td>\n",
       "      <td>3.969131</td>\n",
       "    </tr>\n",
       "    <tr>\n",
       "      <th>240</th>\n",
       "      <td>27.18</td>\n",
       "      <td>2.00</td>\n",
       "      <td>Female</td>\n",
       "      <td>Yes</td>\n",
       "      <td>Sat</td>\n",
       "      <td>Dinner</td>\n",
       "      <td>2</td>\n",
       "      <td>2.998279</td>\n",
       "      <td>3.774836</td>\n",
       "    </tr>\n",
       "    <tr>\n",
       "      <th>241</th>\n",
       "      <td>22.67</td>\n",
       "      <td>2.00</td>\n",
       "      <td>Male</td>\n",
       "      <td>Yes</td>\n",
       "      <td>Sat</td>\n",
       "      <td>Dinner</td>\n",
       "      <td>2</td>\n",
       "      <td>2.998279</td>\n",
       "      <td>3.301175</td>\n",
       "    </tr>\n",
       "    <tr>\n",
       "      <th>242</th>\n",
       "      <td>17.82</td>\n",
       "      <td>1.75</td>\n",
       "      <td>Male</td>\n",
       "      <td>No</td>\n",
       "      <td>Sat</td>\n",
       "      <td>Dinner</td>\n",
       "      <td>2</td>\n",
       "      <td>2.998279</td>\n",
       "      <td>2.791807</td>\n",
       "    </tr>\n",
       "    <tr>\n",
       "      <th>243</th>\n",
       "      <td>18.78</td>\n",
       "      <td>3.00</td>\n",
       "      <td>Female</td>\n",
       "      <td>No</td>\n",
       "      <td>Thur</td>\n",
       "      <td>Dinner</td>\n",
       "      <td>2</td>\n",
       "      <td>2.998279</td>\n",
       "      <td>2.892630</td>\n",
       "    </tr>\n",
       "  </tbody>\n",
       "</table>\n",
       "<p>244 rows × 9 columns</p>\n",
       "</div>"
      ],
      "text/plain": [
       "     total_bill   tip     sex smoker   day    time  size  baseline     y_hat\n",
       "0         16.99  1.01  Female     No   Sun  Dinner     2  2.998279  2.704636\n",
       "1         10.34  1.66    Male     No   Sun  Dinner     3  2.998279  2.006223\n",
       "2         21.01  3.50    Male     No   Sun  Dinner     3  2.998279  3.126835\n",
       "3         23.68  3.31    Male     No   Sun  Dinner     2  2.998279  3.407250\n",
       "4         24.59  3.61  Female     No   Sun  Dinner     4  2.998279  3.502822\n",
       "..          ...   ...     ...    ...   ...     ...   ...       ...       ...\n",
       "239       29.03  5.92    Male     No   Sat  Dinner     3  2.998279  3.969131\n",
       "240       27.18  2.00  Female    Yes   Sat  Dinner     2  2.998279  3.774836\n",
       "241       22.67  2.00    Male    Yes   Sat  Dinner     2  2.998279  3.301175\n",
       "242       17.82  1.75    Male     No   Sat  Dinner     2  2.998279  2.791807\n",
       "243       18.78  3.00  Female     No  Thur  Dinner     2  2.998279  2.892630\n",
       "\n",
       "[244 rows x 9 columns]"
      ]
     },
     "execution_count": 41,
     "metadata": {},
     "output_type": "execute_result"
    }
   ],
   "source": [
    "tips"
   ]
  },
  {
   "cell_type": "code",
   "execution_count": 42,
   "id": "220456c3",
   "metadata": {},
   "outputs": [
    {
     "data": {
      "image/png": "[encoded data removed]",
      "text/plain": [
       "<Figure size 792x504 with 1 Axes>"
      ]
     },
     "metadata": {},
     "output_type": "display_data"
    }
   ],
   "source": [
    "#figure\n",
    "plt.figure(figsize = (11, 7))\n",
    "\n",
    "#scatterplot of original x and y\n",
    "plt.scatter(tips.total_bill, tips.tip, color = 'rebeccapurple')\n",
    "\n",
    "#lineplot of predicted values\n",
    "plt.plot(tips.total_bill, tips.y_hat, color = 'firebrick')\n",
    "\n",
    "#clarity\n",
    "plt.xlabel('Total Bill', size = 16)\n",
    "plt.ylabel('Tip', color = 'rebeccapurple', size = 16)\n",
    "plt.title('OLS Linear Model', color = 'firebrick', size = 19)\n",
    "plt.tight_layout();"
   ]
  },
  {
   "cell_type": "code",
   "execution_count": 43,
   "id": "6e5937ee",
   "metadata": {},
   "outputs": [],
   "source": [
    "#calculate residuals\n",
    "tips['residual'] = tips.tip - tips.y_hat\n",
    "tips['baseline_residual'] = tips.tip - tips.baseline"
   ]
  },
  {
   "cell_type": "code",
   "execution_count": 44,
   "id": "251de7af",
   "metadata": {},
   "outputs": [
    {
     "data": {
      "text/plain": [
       "7.460698725481052e-14"
      ]
     },
     "execution_count": 44,
     "metadata": {},
     "output_type": "execute_result"
    }
   ],
   "source": [
    "#verify sum of residuals is zero\n",
    "tips.residual.sum()"
   ]
  },
  {
   "cell_type": "code",
   "execution_count": 45,
   "id": "51d9c830",
   "metadata": {},
   "outputs": [
    {
     "data": {
      "text/plain": [
       "-2.4868995751603507e-14"
      ]
     },
     "execution_count": 45,
     "metadata": {},
     "output_type": "execute_result"
    }
   ],
   "source": [
    "#verify\n",
    "tips.baseline_residual.sum()"
   ]
  },
  {
   "cell_type": "markdown",
   "id": "5f3b9f8c",
   "metadata": {},
   "source": [
    "## Exercise III\n",
    "Plot the residuals for the linear regression model that you made."
   ]
  },
  {
   "cell_type": "code",
   "execution_count": 46,
   "id": "ad3e2cd9",
   "metadata": {},
   "outputs": [
    {
     "data": {
      "image/png": "[encoded data removed]",
      "text/plain": [
       "<Figure size 792x504 with 1 Axes>"
      ]
     },
     "metadata": {},
     "output_type": "display_data"
    }
   ],
   "source": [
    "#create figure\n",
    "plt.figure(figsize = (11, 7))\n",
    "\n",
    "#scatter!\n",
    "plt.scatter(tips.total_bill, tips.residual, color = 'slategray')\n",
    "\n",
    "#plot a dotted horizontal line at 0 to help visualize residual values\n",
    "plt.axhline(y = 0, ls = ':', color = 'firebrick')\n",
    "\n",
    "#clarity\n",
    "plt.title('Residuals From Y_hat', pad = 11, size = 19, color = 'slategray')\n",
    "plt.xlabel('Total Bill', size = 16)\n",
    "plt.ylabel('Residual', size = 16, color = 'slategray');"
   ]
  },
  {
   "cell_type": "markdown",
   "id": "ad44368a",
   "metadata": {},
   "source": [
    "## Exercise IV\n",
    "Calculate the sum of squared errors, explained sum of squares, total sum of squares, mean squared error, and root mean squared error for your model."
   ]
  },
  {
   "cell_type": "code",
   "execution_count": 47,
   "id": "c3d482b9",
   "metadata": {},
   "outputs": [
    {
     "name": "stdout",
     "output_type": "stream",
     "text": [
      "Sum of Squared Errors = 252.79\n",
      "SSE_baseline = 465.21\n"
     ]
    }
   ],
   "source": [
    "#calculate SSE, ESS, TSS, MSE, RMSE\n",
    "\n",
    "#generate squares of errors\n",
    "tips['residual^2'] = tips.residual ** 2\n",
    "tips['baseline_residual^2'] = tips.baseline_residual ** 2\n",
    "\n",
    "#sum of squared errors\n",
    "SSE = tips['residual^2'].sum()\n",
    "SSE_baseline = tips['baseline_residual^2'].sum()\n",
    "if __name__ == '__main__':\n",
    "    print(f'Sum of Squared Errors = {round(SSE, 2)}')\n",
    "    print(f'SSE_baseline = {round(SSE_baseline, 2)}')"
   ]
  },
  {
   "cell_type": "code",
   "execution_count": 48,
   "id": "cdd6abcf",
   "metadata": {},
   "outputs": [
    {
     "name": "stdout",
     "output_type": "stream",
     "text": [
      "Explained Sum of Squares = 212.42373319840445\n"
     ]
    }
   ],
   "source": [
    "#ESS = explained sum of squares (sum of the squares of the differences between predicted values and the mean of all actual values)\n",
    "ESS = sum((tips.y_hat - tips.tip.mean())**2)\n",
    "if __name__ == '__main__':\n",
    "    print(f'Explained Sum of Squares = {ESS}')"
   ]
  },
  {
   "cell_type": "code",
   "execution_count": 49,
   "id": "4c6d762f",
   "metadata": {},
   "outputs": [
    {
     "name": "stdout",
     "output_type": "stream",
     "text": [
      "Total Sum of Squares = 465.21\n"
     ]
    }
   ],
   "source": [
    "#TSS = total sum of squares (can be derived from the sum of ESS and SSE) (in this case, it is also my baseline SSE)\n",
    "TSS = ESS + SSE\n",
    "if __name__ == '__main__':\n",
    "    print(f'Total Sum of Squares = {round((TSS), 2)}')"
   ]
  },
  {
   "cell_type": "code",
   "execution_count": 50,
   "id": "9f88487d",
   "metadata": {},
   "outputs": [
    {
     "name": "stdout",
     "output_type": "stream",
     "text": [
      "Mean of Squared Errors = 1.04\n"
     ]
    }
   ],
   "source": [
    "#MSE = mean squared error\n",
    "MSE = SSE / len(tips)\n",
    "if __name__ == '__main__':\n",
    "    print(f'Mean of Squared Errors = {round(MSE, 2)}')"
   ]
  },
  {
   "cell_type": "code",
   "execution_count": 51,
   "id": "4f7b2d17",
   "metadata": {},
   "outputs": [
    {
     "name": "stdout",
     "output_type": "stream",
     "text": [
      "Root of Mean of Squared Errors = 1.02\n"
     ]
    }
   ],
   "source": [
    "#RMSE = root mean squared error\n",
    "RMSE = MSE ** (1/2)\n",
    "if __name__ == '__main__':\n",
    "    print(f'Root of Mean of Squared Errors = {round(RMSE, 2)}')"
   ]
  },
  {
   "cell_type": "markdown",
   "id": "95e5a1a6",
   "metadata": {},
   "source": [
    "## Exercise V\n",
    "Calculate the sum of squared errors, mean squared error, and root mean squared error for the baseline model (i.e. a model that always predicts the average tip amount)."
   ]
  },
  {
   "cell_type": "code",
   "execution_count": 52,
   "id": "4857f60c",
   "metadata": {},
   "outputs": [
    {
     "name": "stdout",
     "output_type": "stream",
     "text": [
      "Sum of squared errors for baseline model: 465.21\n",
      "Mean of squared errors for baseline model: 1.91\n",
      "Root of mean of squared errors for baseline model: 1.38\n"
     ]
    }
   ],
   "source": [
    "#calculate SSE_baseline, MSE_baseline, RMSE_baseline\n",
    "MSE_baseline = SSE_baseline / len(tips)\n",
    "RMSE_baseline = MSE_baseline ** (1/2)\n",
    "print(f'Sum of squared errors for baseline model: {round(SSE_baseline, 2)}')\n",
    "print(f'Mean of squared errors for baseline model: {round(MSE_baseline, 2)}')\n",
    "print(f'Root of mean of squared errors for baseline model: {round(RMSE_baseline, 2)}')"
   ]
  },
  {
   "cell_type": "markdown",
   "id": "bcebee4b",
   "metadata": {},
   "source": [
    "## Exercise VI\n",
    "Write python code that compares the sum of squared errors for your model against the sum of squared errors for the baseline model and outputs whether or not your model performs better than the baseline model."
   ]
  },
  {
   "cell_type": "code",
   "execution_count": 53,
   "id": "04c16dee",
   "metadata": {},
   "outputs": [],
   "source": [
    "#simple function that defines two parameters, sum of squared errors for my model and the baseline's, and returns a string that conveys which model is better.\n",
    "def compare_2_baseline(SSE, SSE_baseline):\n",
    "    if SSE < SSE_baseline:\n",
    "        print(f'My OLS model performs better than the baseline model.')\n",
    "    else:\n",
    "        print(f'The baseline model is better.')"
   ]
  },
  {
   "cell_type": "code",
   "execution_count": 54,
   "id": "044f790b",
   "metadata": {},
   "outputs": [
    {
     "name": "stdout",
     "output_type": "stream",
     "text": [
      "My OLS model performs better than the baseline model.\n"
     ]
    }
   ],
   "source": [
    "compare_2_baseline(SSE, SSE_baseline)"
   ]
  },
  {
   "cell_type": "markdown",
   "id": "16b65eab",
   "metadata": {},
   "source": [
    "## Exercise VII\n",
    "What is the amount of variance explained in your model?"
   ]
  },
  {
   "cell_type": "code",
   "execution_count": 55,
   "id": "e3729412",
   "metadata": {},
   "outputs": [
    {
     "name": "stdout",
     "output_type": "stream",
     "text": [
      "The amount of variance explained in my model is 0.46.\n"
     ]
    }
   ],
   "source": [
    "#R^2 = explained variance\n",
    "R2 = ESS / TSS\n",
    "print(f'The amount of variance explained in my model is {round(R2, 2)}.')"
   ]
  },
  {
   "cell_type": "markdown",
   "id": "bce4cbd6",
   "metadata": {},
   "source": [
    "## Exercise VIII\n",
    "Is your model better than the baseline model?"
   ]
  },
  {
   "cell_type": "code",
   "execution_count": 56,
   "id": "f7694f6a",
   "metadata": {},
   "outputs": [],
   "source": [
    "#index for my df\n",
    "metric = ['SSE', 'MSE', 'RMSE']\n",
    "\n",
    "#df for easy metric comparison\n",
    "model_juxt = pd.DataFrame({'model_error': [SSE, MSE, RMSE],\n",
    "                         'baseline_error': [SSE_baseline, MSE_baseline, RMSE_baseline]\n",
    "                         }, index = metric)"
   ]
  },
  {
   "cell_type": "code",
   "execution_count": 57,
   "id": "6bcd19dd",
   "metadata": {},
   "outputs": [],
   "source": [
    "#boolean mask to determine if model errors are better than baseline errors (less error is better error)\n",
    "model_juxt['beats_baseline'] = model_juxt['model_error'] < model_juxt['baseline_error']"
   ]
  },
  {
   "cell_type": "code",
   "execution_count": 58,
   "id": "30a55f6e",
   "metadata": {},
   "outputs": [
    {
     "data": {
      "text/html": [
       "<div>\n",
       "<style scoped>\n",
       "    .dataframe tbody tr th:only-of-type {\n",
       "        vertical-align: middle;\n",
       "    }\n",
       "\n",
       "    .dataframe tbody tr th {\n",
       "        vertical-align: top;\n",
       "    }\n",
       "\n",
       "    .dataframe thead th {\n",
       "        text-align: right;\n",
       "    }\n",
       "</style>\n",
       "<table border=\"1\" class=\"dataframe\">\n",
       "  <thead>\n",
       "    <tr style=\"text-align: right;\">\n",
       "      <th></th>\n",
       "      <th>model_error</th>\n",
       "      <th>baseline_error</th>\n",
       "      <th>beats_baseline</th>\n",
       "    </tr>\n",
       "  </thead>\n",
       "  <tbody>\n",
       "    <tr>\n",
       "      <th>SSE</th>\n",
       "      <td>252.788744</td>\n",
       "      <td>465.212477</td>\n",
       "      <td>True</td>\n",
       "    </tr>\n",
       "    <tr>\n",
       "      <th>MSE</th>\n",
       "      <td>1.036019</td>\n",
       "      <td>1.906609</td>\n",
       "      <td>True</td>\n",
       "    </tr>\n",
       "    <tr>\n",
       "      <th>RMSE</th>\n",
       "      <td>1.017850</td>\n",
       "      <td>1.380800</td>\n",
       "      <td>True</td>\n",
       "    </tr>\n",
       "  </tbody>\n",
       "</table>\n",
       "</div>"
      ],
      "text/plain": [
       "      model_error  baseline_error  beats_baseline\n",
       "SSE    252.788744      465.212477            True\n",
       "MSE      1.036019        1.906609            True\n",
       "RMSE     1.017850        1.380800            True"
      ]
     },
     "execution_count": 58,
     "metadata": {},
     "output_type": "execute_result"
    }
   ],
   "source": [
    "#a look at the dataframe\n",
    "model_juxt"
   ]
  },
  {
   "cell_type": "markdown",
   "id": "b6f359a7",
   "metadata": {},
   "source": [
    "## Exercise IX\n",
    "\n",
    "Create a file named evaluate.py that contains the following functions.\n",
    "\n",
    "* plot_residuals(y, yhat): creates a residual plot\n",
    "* regression_errors(y, yhat): returns the following values:\n",
    "* sum of squared errors (SSE)\n",
    "* explained sum of squares (ESS)\n",
    "* total sum of squares (TSS)\n",
    "* mean squared error (MSE)\n",
    "* root mean squared error (RMSE)\n",
    "* baseline_mean_errors(y): computes the SSE, MSE, and RMSE for the baseline model\n",
    "* better_than_baseline(y, yhat): returns true if your model performs better than the baseline, otherwise false"
   ]
  },
  {
   "cell_type": "code",
   "execution_count": 76,
   "id": "4742b83e",
   "metadata": {},
   "outputs": [],
   "source": [
    "def plot_residuals(y, y_hat):\n",
    "    #calculate residuals\n",
    "    residuals = y - y_hat\n",
    "    \n",
    "    #create figure\n",
    "    plt.figure(figsize = (8, 5))\n",
    "    \n",
    "    #plot residuals\n",
    "    plt.scatter(y, residuals, color = 'slategray')\n",
    "    \n",
    "    #plot a dotted horizontal line at 0 to help visualize residual values\n",
    "    plt.axhline(y = 0, ls = ':', color = 'firebrick')\n",
    "    \n",
    "    #clarity\n",
    "    plt.title('Residuals From Predicted Values', pad = 7, size = 17, color = 'slategray')\n",
    "    plt.xlabel('Actual Value', size = 15)\n",
    "    plt.ylabel('Residual', size = 15, color = 'slategray');"
   ]
  },
  {
   "cell_type": "code",
   "execution_count": 77,
   "id": "312a82f2",
   "metadata": {},
   "outputs": [
    {
     "data": {
      "image/png": "[encoded data removed]",
      "text/plain": [
       "<Figure size 576x360 with 1 Axes>"
      ]
     },
     "metadata": {},
     "output_type": "display_data"
    }
   ],
   "source": [
    "#testing, testing\n",
    "plot_residuals(tips.tip, tips.y_hat)"
   ]
  },
  {
   "cell_type": "code",
   "execution_count": 61,
   "id": "dbd2aa16",
   "metadata": {},
   "outputs": [],
   "source": [
    "def regression_errors(y, y_hat):\n",
    "    #calculate residuals\n",
    "    residuals = y - y_hat\n",
    "    \n",
    "    #residuals squared\n",
    "    residuals_squared = residuals ** 2\n",
    "    \n",
    "    #sum of squared errors\n",
    "    SSE = residuals_squared.sum()\n",
    "    \n",
    "    #explained sum of squares\n",
    "    ESS = sum((y_hat - y.mean())**2)\n",
    "    \n",
    "    #total sum of squares\n",
    "    TSS = ESS + SSE\n",
    "    \n",
    "    #mean of squared errors\n",
    "    MSE = SSE / len(y)\n",
    "    \n",
    "    #root of mean of squared errors\n",
    "    RMSE = MSE ** (1/2)\n",
    "    \n",
    "    #assign values to series\n",
    "    model_metrics = pd.Series({\n",
    "        'SSE': SSE,\n",
    "        'ESS': ESS,\n",
    "        'TSS': TSS,\n",
    "        'MSE': MSE,\n",
    "        'RMSE': RMSE\n",
    "    })\n",
    "    \n",
    "    #gimme gimme\n",
    "    print('Model Metrics')\n",
    "    print('=============')\n",
    "    return model_metrics"
   ]
  },
  {
   "cell_type": "code",
   "execution_count": 31,
   "id": "15a1c630",
   "metadata": {},
   "outputs": [
    {
     "name": "stdout",
     "output_type": "stream",
     "text": [
      "Model Metrics\n",
      "=============\n"
     ]
    },
    {
     "data": {
      "text/plain": [
       "SSE     252.788744\n",
       "ESS     212.423733\n",
       "TSS     465.212477\n",
       "MSE       1.036019\n",
       "RMSE      1.017850\n",
       "dtype: float64"
      ]
     },
     "execution_count": 31,
     "metadata": {},
     "output_type": "execute_result"
    }
   ],
   "source": [
    "regression_errors(tips.tip, tips.y_hat)"
   ]
  },
  {
   "cell_type": "code",
   "execution_count": 50,
   "id": "445b456f",
   "metadata": {},
   "outputs": [
    {
     "ename": "SyntaxError",
     "evalue": "unexpected EOF while parsing (<ipython-input-50-c9018a4328c1>, line 1)",
     "output_type": "error",
     "traceback": [
      "\u001b[0;36m  File \u001b[0;32m\"<ipython-input-50-c9018a4328c1>\"\u001b[0;36m, line \u001b[0;32m1\u001b[0m\n\u001b[0;31m    def compare_train_validate_errors(y, ty_hat, vy_hat):\u001b[0m\n\u001b[0m                                                         ^\u001b[0m\n\u001b[0;31mSyntaxError\u001b[0m\u001b[0;31m:\u001b[0m unexpected EOF while parsing\n"
     ]
    }
   ],
   "source": [
    "def compare_train_validate_errors(y, trainy_hat, validatey_hat):\n",
    "    #calculate residuals\n",
    "    residuals = y - ty_hat\n",
    "    \n",
    "    #residuals squared\n",
    "    residuals_squared = residuals ** 2\n",
    "    \n",
    "    #sum of squared errors\n",
    "    train_SSE = residuals_squared.sum()\n",
    "    \n",
    "    #mean of squared errors\n",
    "    train_MSE = train_SSE / len(y)\n",
    "    \n",
    "    #root of mean of squared errors\n",
    "    train_RMSE = train_MSE ** (1/2)\n",
    "    \n",
    "    ### calculate residuals for validate\n",
    "    residuals = y - vy_hat\n",
    "    \n",
    "    #residuals squared\n",
    "    residuals_squared = residuals ** 2\n",
    "    \n",
    "    #sum of squared errors\n",
    "    validate_SSE = residuals_squared.sum()\n",
    "    \n",
    "    #mean of squared errors\n",
    "    validate_MSE = validate_SSE / len(y)\n",
    "    \n",
    "    #root of mean of squared errors\n",
    "    validate_RMSE = validate_MSE ** (1/2)\n",
    "    \n",
    "    print(f'Train RMSE: {train_RMSE}')\n",
    "    print(f'Validate RMSE: {validate_RMSE}')\n",
    "    print(f'Difference: {validate_RMSE - train_RMSE}')"
   ]
  },
  {
   "cell_type": "code",
   "execution_count": 32,
   "id": "94620446",
   "metadata": {},
   "outputs": [],
   "source": [
    "def baseline_mean_errors(y):\n",
    "    #determine baseline\n",
    "    baseline = y.mean()\n",
    "    \n",
    "    #calculate baseline residuals\n",
    "    baseline_residuals = y - y.mean()\n",
    "    \n",
    "    #sum of squared errors (baseline)\n",
    "    SSE = (baseline_residuals ** 2).sum()\n",
    "    \n",
    "    #mean of squared errors (baseline)\n",
    "    MSE = SSE / len(y)\n",
    "    \n",
    "    #root of mean of squared errors (baseline)\n",
    "    RMSE = MSE ** (1/2)\n",
    "    \n",
    "    print('Baseline Metrics')\n",
    "    print('----------------')\n",
    "    return pd.Series({\n",
    "        'SSE': SSE,\n",
    "        'MSE': MSE, \n",
    "        'RMSE': RMSE\n",
    "    })"
   ]
  },
  {
   "cell_type": "code",
   "execution_count": 33,
   "id": "e0c235a0",
   "metadata": {},
   "outputs": [
    {
     "name": "stdout",
     "output_type": "stream",
     "text": [
      "Baseline Metrics\n",
      "----------------\n"
     ]
    },
    {
     "data": {
      "text/plain": [
       "SSE     465.212477\n",
       "MSE       1.906609\n",
       "RMSE      1.380800\n",
       "dtype: float64"
      ]
     },
     "execution_count": 33,
     "metadata": {},
     "output_type": "execute_result"
    }
   ],
   "source": [
    "baseline_mean_errors(tips.tip)"
   ]
  },
  {
   "cell_type": "code",
   "execution_count": 34,
   "id": "5b62bc5e",
   "metadata": {},
   "outputs": [],
   "source": [
    "def better_than_baseline(y, y_hat):\n",
    "    #calculate residuals\n",
    "    residuals = y - y_hat\n",
    "    \n",
    "    #residuals squared\n",
    "    residuals_squared = residuals ** 2\n",
    "    \n",
    "    #sum of squared errors\n",
    "    SSE = residuals_squared.sum()\n",
    "    \n",
    "    #mean of squared errors\n",
    "    MSE = SSE / len(y)\n",
    "    \n",
    "    #root of mean of squared errors\n",
    "    RMSE = MSE ** (1/2)\n",
    "    \n",
    "    #determine baseline\n",
    "    baseline = y.mean()\n",
    "    \n",
    "    #calculate baseline residuals\n",
    "    baseline_residuals = y - y.mean()\n",
    "    \n",
    "    #sum of squared errors (baseline)\n",
    "    SSE_baseline = (baseline_residuals ** 2).sum()\n",
    "    \n",
    "    #mean of squared errors (baseline)\n",
    "    MSE_baseline = SSE_baseline / len(y)\n",
    "    \n",
    "    #root of mean of squared errors (baseline)\n",
    "    RMSE_baseline = MSE_baseline ** (1/2)\n",
    "    \n",
    "    #return bool True if mine model is better; return bool False if no\n",
    "    return RMSE < RMSE_baseline"
   ]
  },
  {
   "cell_type": "code",
   "execution_count": 35,
   "id": "2dc6aa98",
   "metadata": {},
   "outputs": [
    {
     "data": {
      "text/plain": [
       "True"
      ]
     },
     "execution_count": 35,
     "metadata": {},
     "output_type": "execute_result"
    }
   ],
   "source": [
    "better_than_baseline(tips.tip, tips.y_hat)"
   ]
  },
  {
   "cell_type": "markdown",
   "id": "e47c0eb6",
   "metadata": {},
   "source": [
    "## Exercise X\n",
    "Load the mpg dataset and fit a model that predicts highway mileage based on engine displacement. Take a look at all the regression evaluation metrics, and determine whether this model is better than the baseline model. Use the functions from your evaluate.py to help accomplish this."
   ]
  },
  {
   "cell_type": "code",
   "execution_count": 36,
   "id": "7b8f05b7",
   "metadata": {},
   "outputs": [],
   "source": [
    "#load\n",
    "mpg = sns.load_dataset('mpg')"
   ]
  },
  {
   "cell_type": "code",
   "execution_count": 37,
   "id": "9a7305ba",
   "metadata": {},
   "outputs": [
    {
     "data": {
      "text/html": [
       "<div>\n",
       "<style scoped>\n",
       "    .dataframe tbody tr th:only-of-type {\n",
       "        vertical-align: middle;\n",
       "    }\n",
       "\n",
       "    .dataframe tbody tr th {\n",
       "        vertical-align: top;\n",
       "    }\n",
       "\n",
       "    .dataframe thead th {\n",
       "        text-align: right;\n",
       "    }\n",
       "</style>\n",
       "<table border=\"1\" class=\"dataframe\">\n",
       "  <thead>\n",
       "    <tr style=\"text-align: right;\">\n",
       "      <th></th>\n",
       "      <th>mpg</th>\n",
       "      <th>cylinders</th>\n",
       "      <th>displacement</th>\n",
       "      <th>horsepower</th>\n",
       "      <th>weight</th>\n",
       "      <th>acceleration</th>\n",
       "      <th>model_year</th>\n",
       "      <th>origin</th>\n",
       "      <th>name</th>\n",
       "    </tr>\n",
       "  </thead>\n",
       "  <tbody>\n",
       "    <tr>\n",
       "      <th>0</th>\n",
       "      <td>18.0</td>\n",
       "      <td>8</td>\n",
       "      <td>307.0</td>\n",
       "      <td>130.0</td>\n",
       "      <td>3504</td>\n",
       "      <td>12.0</td>\n",
       "      <td>70</td>\n",
       "      <td>usa</td>\n",
       "      <td>chevrolet chevelle malibu</td>\n",
       "    </tr>\n",
       "    <tr>\n",
       "      <th>1</th>\n",
       "      <td>15.0</td>\n",
       "      <td>8</td>\n",
       "      <td>350.0</td>\n",
       "      <td>165.0</td>\n",
       "      <td>3693</td>\n",
       "      <td>11.5</td>\n",
       "      <td>70</td>\n",
       "      <td>usa</td>\n",
       "      <td>buick skylark 320</td>\n",
       "    </tr>\n",
       "    <tr>\n",
       "      <th>2</th>\n",
       "      <td>18.0</td>\n",
       "      <td>8</td>\n",
       "      <td>318.0</td>\n",
       "      <td>150.0</td>\n",
       "      <td>3436</td>\n",
       "      <td>11.0</td>\n",
       "      <td>70</td>\n",
       "      <td>usa</td>\n",
       "      <td>plymouth satellite</td>\n",
       "    </tr>\n",
       "    <tr>\n",
       "      <th>3</th>\n",
       "      <td>16.0</td>\n",
       "      <td>8</td>\n",
       "      <td>304.0</td>\n",
       "      <td>150.0</td>\n",
       "      <td>3433</td>\n",
       "      <td>12.0</td>\n",
       "      <td>70</td>\n",
       "      <td>usa</td>\n",
       "      <td>amc rebel sst</td>\n",
       "    </tr>\n",
       "    <tr>\n",
       "      <th>4</th>\n",
       "      <td>17.0</td>\n",
       "      <td>8</td>\n",
       "      <td>302.0</td>\n",
       "      <td>140.0</td>\n",
       "      <td>3449</td>\n",
       "      <td>10.5</td>\n",
       "      <td>70</td>\n",
       "      <td>usa</td>\n",
       "      <td>ford torino</td>\n",
       "    </tr>\n",
       "  </tbody>\n",
       "</table>\n",
       "</div>"
      ],
      "text/plain": [
       "    mpg  cylinders  displacement  horsepower  weight  acceleration  \\\n",
       "0  18.0          8         307.0       130.0    3504          12.0   \n",
       "1  15.0          8         350.0       165.0    3693          11.5   \n",
       "2  18.0          8         318.0       150.0    3436          11.0   \n",
       "3  16.0          8         304.0       150.0    3433          12.0   \n",
       "4  17.0          8         302.0       140.0    3449          10.5   \n",
       "\n",
       "   model_year origin                       name  \n",
       "0          70    usa  chevrolet chevelle malibu  \n",
       "1          70    usa          buick skylark 320  \n",
       "2          70    usa         plymouth satellite  \n",
       "3          70    usa              amc rebel sst  \n",
       "4          70    usa                ford torino  "
      ]
     },
     "execution_count": 37,
     "metadata": {},
     "output_type": "execute_result"
    }
   ],
   "source": [
    "#wait, where is hwy mpg?\n",
    "mpg.head()"
   ]
  },
  {
   "cell_type": "code",
   "execution_count": 38,
   "id": "bde6fabb",
   "metadata": {},
   "outputs": [],
   "source": [
    "#load\n",
    "from pydataset import data\n",
    "mpg = data('mpg')"
   ]
  },
  {
   "cell_type": "code",
   "execution_count": 39,
   "id": "0855267a",
   "metadata": {},
   "outputs": [
    {
     "data": {
      "text/html": [
       "<div>\n",
       "<style scoped>\n",
       "    .dataframe tbody tr th:only-of-type {\n",
       "        vertical-align: middle;\n",
       "    }\n",
       "\n",
       "    .dataframe tbody tr th {\n",
       "        vertical-align: top;\n",
       "    }\n",
       "\n",
       "    .dataframe thead th {\n",
       "        text-align: right;\n",
       "    }\n",
       "</style>\n",
       "<table border=\"1\" class=\"dataframe\">\n",
       "  <thead>\n",
       "    <tr style=\"text-align: right;\">\n",
       "      <th></th>\n",
       "      <th>manufacturer</th>\n",
       "      <th>model</th>\n",
       "      <th>displ</th>\n",
       "      <th>year</th>\n",
       "      <th>cyl</th>\n",
       "      <th>trans</th>\n",
       "      <th>drv</th>\n",
       "      <th>cty</th>\n",
       "      <th>hwy</th>\n",
       "      <th>fl</th>\n",
       "      <th>class</th>\n",
       "    </tr>\n",
       "  </thead>\n",
       "  <tbody>\n",
       "    <tr>\n",
       "      <th>1</th>\n",
       "      <td>audi</td>\n",
       "      <td>a4</td>\n",
       "      <td>1.8</td>\n",
       "      <td>1999</td>\n",
       "      <td>4</td>\n",
       "      <td>auto(l5)</td>\n",
       "      <td>f</td>\n",
       "      <td>18</td>\n",
       "      <td>29</td>\n",
       "      <td>p</td>\n",
       "      <td>compact</td>\n",
       "    </tr>\n",
       "    <tr>\n",
       "      <th>2</th>\n",
       "      <td>audi</td>\n",
       "      <td>a4</td>\n",
       "      <td>1.8</td>\n",
       "      <td>1999</td>\n",
       "      <td>4</td>\n",
       "      <td>manual(m5)</td>\n",
       "      <td>f</td>\n",
       "      <td>21</td>\n",
       "      <td>29</td>\n",
       "      <td>p</td>\n",
       "      <td>compact</td>\n",
       "    </tr>\n",
       "    <tr>\n",
       "      <th>3</th>\n",
       "      <td>audi</td>\n",
       "      <td>a4</td>\n",
       "      <td>2.0</td>\n",
       "      <td>2008</td>\n",
       "      <td>4</td>\n",
       "      <td>manual(m6)</td>\n",
       "      <td>f</td>\n",
       "      <td>20</td>\n",
       "      <td>31</td>\n",
       "      <td>p</td>\n",
       "      <td>compact</td>\n",
       "    </tr>\n",
       "    <tr>\n",
       "      <th>4</th>\n",
       "      <td>audi</td>\n",
       "      <td>a4</td>\n",
       "      <td>2.0</td>\n",
       "      <td>2008</td>\n",
       "      <td>4</td>\n",
       "      <td>auto(av)</td>\n",
       "      <td>f</td>\n",
       "      <td>21</td>\n",
       "      <td>30</td>\n",
       "      <td>p</td>\n",
       "      <td>compact</td>\n",
       "    </tr>\n",
       "    <tr>\n",
       "      <th>5</th>\n",
       "      <td>audi</td>\n",
       "      <td>a4</td>\n",
       "      <td>2.8</td>\n",
       "      <td>1999</td>\n",
       "      <td>6</td>\n",
       "      <td>auto(l5)</td>\n",
       "      <td>f</td>\n",
       "      <td>16</td>\n",
       "      <td>26</td>\n",
       "      <td>p</td>\n",
       "      <td>compact</td>\n",
       "    </tr>\n",
       "  </tbody>\n",
       "</table>\n",
       "</div>"
      ],
      "text/plain": [
       "  manufacturer model  displ  year  cyl       trans drv  cty  hwy fl    class\n",
       "1         audi    a4    1.8  1999    4    auto(l5)   f   18   29  p  compact\n",
       "2         audi    a4    1.8  1999    4  manual(m5)   f   21   29  p  compact\n",
       "3         audi    a4    2.0  2008    4  manual(m6)   f   20   31  p  compact\n",
       "4         audi    a4    2.0  2008    4    auto(av)   f   21   30  p  compact\n",
       "5         audi    a4    2.8  1999    6    auto(l5)   f   16   26  p  compact"
      ]
     },
     "execution_count": 39,
     "metadata": {},
     "output_type": "execute_result"
    }
   ],
   "source": [
    "#found it\n",
    "mpg.head()"
   ]
  },
  {
   "cell_type": "code",
   "execution_count": 40,
   "id": "f99e155b",
   "metadata": {},
   "outputs": [],
   "source": [
    "#get a baseline\n",
    "baseline = mpg.hwy.mean()\n",
    "mpg['baseline'] = mpg.hwy.mean()"
   ]
  },
  {
   "cell_type": "code",
   "execution_count": 41,
   "id": "9ad994cd",
   "metadata": {},
   "outputs": [],
   "source": [
    "#x and y\n",
    "X = mpg[['displ']]\n",
    "y = mpg['hwy']\n",
    "\n",
    "#create object\n",
    "lm = LinearRegression(normalize = True)\n",
    "\n",
    "#fit object\n",
    "lm.fit(X, y)\n",
    "\n",
    "#predict\n",
    "mpg['y_hat'] = lm.predict(X)"
   ]
  },
  {
   "cell_type": "code",
   "execution_count": 42,
   "id": "dd5e4f7f",
   "metadata": {},
   "outputs": [],
   "source": [
    "import evaluate"
   ]
  },
  {
   "cell_type": "code",
   "execution_count": 43,
   "id": "1b9aa52e",
   "metadata": {},
   "outputs": [
    {
     "name": "stdout",
     "output_type": "stream",
     "text": [
      "Model Metrics\n",
      "=============\n"
     ]
    },
    {
     "data": {
      "text/plain": [
       "SSE     3413.829009\n",
       "ESS     4847.833384\n",
       "TSS     8261.662393\n",
       "MSE       14.589013\n",
       "RMSE       3.819557\n",
       "dtype: float64"
      ]
     },
     "execution_count": 43,
     "metadata": {},
     "output_type": "execute_result"
    }
   ],
   "source": [
    "evaluate.regression_errors(mpg.hwy, mpg.y_hat)"
   ]
  },
  {
   "cell_type": "code",
   "execution_count": 44,
   "id": "bd7c7201",
   "metadata": {},
   "outputs": [
    {
     "name": "stdout",
     "output_type": "stream",
     "text": [
      "Baseline Metrics\n",
      "----------------\n"
     ]
    },
    {
     "data": {
      "text/plain": [
       "SSE     8261.662393\n",
       "MSE       35.306250\n",
       "RMSE       5.941906\n",
       "dtype: float64"
      ]
     },
     "execution_count": 44,
     "metadata": {},
     "output_type": "execute_result"
    }
   ],
   "source": [
    "evaluate.baseline_mean_errors(mpg.hwy)"
   ]
  },
  {
   "cell_type": "code",
   "execution_count": 45,
   "id": "42c79144",
   "metadata": {},
   "outputs": [
    {
     "data": {
      "image/png": "[encoded data removed]",
      "text/plain": [
       "<Figure size 576x360 with 1 Axes>"
      ]
     },
     "metadata": {
      "needs_background": "light"
     },
     "output_type": "display_data"
    }
   ],
   "source": [
    "evaluate.plot_residuals(mpg.hwy, mpg.y_hat)"
   ]
  },
  {
   "cell_type": "code",
   "execution_count": 46,
   "id": "5da3ec38",
   "metadata": {},
   "outputs": [
    {
     "data": {
      "image/png": "[encoded data removed]",
      "text/plain": [
       "<Figure size 792x504 with 1 Axes>"
      ]
     },
     "metadata": {
      "needs_background": "light"
     },
     "output_type": "display_data"
    }
   ],
   "source": [
    "#figure\n",
    "plt.figure(figsize = (11, 7))\n",
    "\n",
    "#scatterplot of original x and y\n",
    "plt.scatter(mpg.displ, mpg.hwy, color = 'rebeccapurple')\n",
    "\n",
    "#lineplot of predicted values\n",
    "plt.plot(mpg.displ, mpg.y_hat, color = 'firebrick')\n",
    "\n",
    "#clarity\n",
    "plt.xlabel('Displacement (Liters)', size = 16)\n",
    "plt.ylabel('Highway MPG', color = 'rebeccapurple', size = 16)\n",
    "plt.title('OLS Linear Model', color = 'firebrick', size = 19)\n",
    "plt.tight_layout();"
   ]
  },
  {
   "cell_type": "code",
   "execution_count": 47,
   "id": "953f9bbd",
   "metadata": {},
   "outputs": [],
   "source": [
    "#define residuals for plot\n",
    "mpg['residual'] = mpg.hwy - mpg.y_hat"
   ]
  },
  {
   "cell_type": "code",
   "execution_count": 48,
   "id": "3334bcc0",
   "metadata": {},
   "outputs": [
    {
     "data": {
      "image/png": "[encoded data removed]",
      "text/plain": [
       "<Figure size 792x504 with 1 Axes>"
      ]
     },
     "metadata": {
      "needs_background": "light"
     },
     "output_type": "display_data"
    }
   ],
   "source": [
    "#create figure\n",
    "plt.figure(figsize = (11, 7))\n",
    "\n",
    "#scatter!\n",
    "plt.scatter(mpg.displ, mpg.residual, color = 'slategray')\n",
    "\n",
    "#plot a dotted horizontal line at 0 to help visualize residual values\n",
    "plt.axhline(y = 0, ls = ':', color = 'firebrick')\n",
    "\n",
    "#clarity\n",
    "plt.title('Residuals From Y_hat', pad = 11, size = 19, color = 'slategray')\n",
    "plt.xlabel('Displacement', size = 16)\n",
    "plt.ylabel('Residual', size = 16, color = 'slategray');"
   ]
  }
 ],
 "metadata": {
  "kernelspec": {
   "display_name": "Python 3",
   "language": "python",
   "name": "python3"
  },
  "language_info": {
   "codemirror_mode": {
    "name": "ipython",
    "version": 3
   },
   "file_extension": ".py",
   "mimetype": "text/x-python",
   "name": "python",
   "nbconvert_exporter": "python",
   "pygments_lexer": "ipython3",
   "version": "3.8.8"
  }
 },
 "nbformat": 4,
 "nbformat_minor": 5
}
