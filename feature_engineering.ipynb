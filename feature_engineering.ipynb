{
 "cells": [
  {
   "cell_type": "code",
   "execution_count": 1,
   "id": "4a81613b",
   "metadata": {},
   "outputs": [],
   "source": [
    "import numpy as np\n",
    "import pandas as pd\n",
    "import matplotlib.pyplot as plt\n",
    "import seaborn as sns\n",
    "import mason_functions as mf\n",
    "\n",
    "import sklearn.preprocessing\n",
    "from sklearn.feature_selection import SelectKBest, f_regression, RFE\n",
    "from sklearn.linear_model import LinearRegression\n",
    "from sklearn.model_selection import train_test_split\n",
    "\n",
    "import warnings\n",
    "warnings.filterwarnings('ignore')"
   ]
  },
  {
   "cell_type": "markdown",
   "id": "09796c28",
   "metadata": {},
   "source": [
    "Do your work for this exercise in a jupyter notebook named feature_engineering within the regression-exercises repo. Add, commit, and push your work."
   ]
  },
  {
   "cell_type": "markdown",
   "id": "d312641b",
   "metadata": {},
   "source": [
    "## Exercise I\n",
    "Load the tips dataset.\n",
    "\n",
    "a. Create a column named tip_percentage. This should be the tip amount divided by the total bill.\n",
    "\n",
    "b. Create a column named price_per_person. This should be the total bill divided by the party size.\n",
    "\n",
    "c. Before using any of the methods discussed in the lesson, which features do you think would be most important for predicting the tip amount? The tip percentage?\n",
    "\n",
    "d. Use select k best and recursive feature elimination to select the top 2 features for predicting tip amount. What are they?\n",
    "\n",
    "e. Use select k best and recursive feature elimination to select the top 2 features for predicting tip percentage. What are they?\n",
    "\n",
    "f. Why do you think select k best and recursive feature elimination might give different answers for the top features? Does this change as you change the number of features your are selecting?"
   ]
  },
  {
   "cell_type": "code",
   "execution_count": 2,
   "id": "b2ce05b2",
   "metadata": {},
   "outputs": [],
   "source": [
    "#load\n",
    "tips = sns.load_dataset('tips')"
   ]
  },
  {
   "cell_type": "code",
   "execution_count": 3,
   "id": "7958e9a0",
   "metadata": {},
   "outputs": [
    {
     "data": {
      "text/html": [
       "<div>\n",
       "<style scoped>\n",
       "    .dataframe tbody tr th:only-of-type {\n",
       "        vertical-align: middle;\n",
       "    }\n",
       "\n",
       "    .dataframe tbody tr th {\n",
       "        vertical-align: top;\n",
       "    }\n",
       "\n",
       "    .dataframe thead th {\n",
       "        text-align: right;\n",
       "    }\n",
       "</style>\n",
       "<table border=\"1\" class=\"dataframe\">\n",
       "  <thead>\n",
       "    <tr style=\"text-align: right;\">\n",
       "      <th></th>\n",
       "      <th>total_bill</th>\n",
       "      <th>tip</th>\n",
       "      <th>sex</th>\n",
       "      <th>smoker</th>\n",
       "      <th>day</th>\n",
       "      <th>time</th>\n",
       "      <th>size</th>\n",
       "    </tr>\n",
       "  </thead>\n",
       "  <tbody>\n",
       "    <tr>\n",
       "      <th>0</th>\n",
       "      <td>16.99</td>\n",
       "      <td>1.01</td>\n",
       "      <td>Female</td>\n",
       "      <td>No</td>\n",
       "      <td>Sun</td>\n",
       "      <td>Dinner</td>\n",
       "      <td>2</td>\n",
       "    </tr>\n",
       "    <tr>\n",
       "      <th>1</th>\n",
       "      <td>10.34</td>\n",
       "      <td>1.66</td>\n",
       "      <td>Male</td>\n",
       "      <td>No</td>\n",
       "      <td>Sun</td>\n",
       "      <td>Dinner</td>\n",
       "      <td>3</td>\n",
       "    </tr>\n",
       "    <tr>\n",
       "      <th>2</th>\n",
       "      <td>21.01</td>\n",
       "      <td>3.50</td>\n",
       "      <td>Male</td>\n",
       "      <td>No</td>\n",
       "      <td>Sun</td>\n",
       "      <td>Dinner</td>\n",
       "      <td>3</td>\n",
       "    </tr>\n",
       "    <tr>\n",
       "      <th>3</th>\n",
       "      <td>23.68</td>\n",
       "      <td>3.31</td>\n",
       "      <td>Male</td>\n",
       "      <td>No</td>\n",
       "      <td>Sun</td>\n",
       "      <td>Dinner</td>\n",
       "      <td>2</td>\n",
       "    </tr>\n",
       "    <tr>\n",
       "      <th>4</th>\n",
       "      <td>24.59</td>\n",
       "      <td>3.61</td>\n",
       "      <td>Female</td>\n",
       "      <td>No</td>\n",
       "      <td>Sun</td>\n",
       "      <td>Dinner</td>\n",
       "      <td>4</td>\n",
       "    </tr>\n",
       "  </tbody>\n",
       "</table>\n",
       "</div>"
      ],
      "text/plain": [
       "   total_bill   tip     sex smoker  day    time  size\n",
       "0       16.99  1.01  Female     No  Sun  Dinner     2\n",
       "1       10.34  1.66    Male     No  Sun  Dinner     3\n",
       "2       21.01  3.50    Male     No  Sun  Dinner     3\n",
       "3       23.68  3.31    Male     No  Sun  Dinner     2\n",
       "4       24.59  3.61  Female     No  Sun  Dinner     4"
      ]
     },
     "execution_count": 3,
     "metadata": {},
     "output_type": "execute_result"
    }
   ],
   "source": [
    "#at a glance\n",
    "tips.head()"
   ]
  },
  {
   "cell_type": "code",
   "execution_count": 4,
   "id": "6a7e1c9d",
   "metadata": {},
   "outputs": [
    {
     "name": "stdout",
     "output_type": "stream",
     "text": [
      "<class 'pandas.core.frame.DataFrame'>\n",
      "RangeIndex: 244 entries, 0 to 243\n",
      "Data columns (total 7 columns):\n",
      " #   Column      Non-Null Count  Dtype   \n",
      "---  ------      --------------  -----   \n",
      " 0   total_bill  244 non-null    float64 \n",
      " 1   tip         244 non-null    float64 \n",
      " 2   sex         244 non-null    category\n",
      " 3   smoker      244 non-null    category\n",
      " 4   day         244 non-null    category\n",
      " 5   time        244 non-null    category\n",
      " 6   size        244 non-null    int64   \n",
      "dtypes: category(4), float64(2), int64(1)\n",
      "memory usage: 7.4 KB\n"
     ]
    }
   ],
   "source": [
    "tips.info()"
   ]
  },
  {
   "cell_type": "code",
   "execution_count": 5,
   "id": "30719758",
   "metadata": {},
   "outputs": [],
   "source": [
    "### A. Create a column named tip_percentage. This should be the tip amount divided by the total bill.\n",
    "### B. Create a column named price_per_person. This should be the total bill divided by the party size.\n",
    "tips['tip_percentage'] = tips['tip'] / tips['total_bill']\n",
    "tips['price_per_person'] = tips['total_bill'] / tips['size']"
   ]
  },
  {
   "cell_type": "code",
   "execution_count": 6,
   "id": "90d8a443",
   "metadata": {},
   "outputs": [
    {
     "data": {
      "text/html": [
       "<div>\n",
       "<style scoped>\n",
       "    .dataframe tbody tr th:only-of-type {\n",
       "        vertical-align: middle;\n",
       "    }\n",
       "\n",
       "    .dataframe tbody tr th {\n",
       "        vertical-align: top;\n",
       "    }\n",
       "\n",
       "    .dataframe thead th {\n",
       "        text-align: right;\n",
       "    }\n",
       "</style>\n",
       "<table border=\"1\" class=\"dataframe\">\n",
       "  <thead>\n",
       "    <tr style=\"text-align: right;\">\n",
       "      <th></th>\n",
       "      <th>total_bill</th>\n",
       "      <th>tip</th>\n",
       "      <th>sex</th>\n",
       "      <th>smoker</th>\n",
       "      <th>day</th>\n",
       "      <th>time</th>\n",
       "      <th>size</th>\n",
       "      <th>tip_percentage</th>\n",
       "      <th>price_per_person</th>\n",
       "    </tr>\n",
       "  </thead>\n",
       "  <tbody>\n",
       "    <tr>\n",
       "      <th>0</th>\n",
       "      <td>16.99</td>\n",
       "      <td>1.01</td>\n",
       "      <td>Female</td>\n",
       "      <td>No</td>\n",
       "      <td>Sun</td>\n",
       "      <td>Dinner</td>\n",
       "      <td>2</td>\n",
       "      <td>0.059447</td>\n",
       "      <td>8.495000</td>\n",
       "    </tr>\n",
       "    <tr>\n",
       "      <th>1</th>\n",
       "      <td>10.34</td>\n",
       "      <td>1.66</td>\n",
       "      <td>Male</td>\n",
       "      <td>No</td>\n",
       "      <td>Sun</td>\n",
       "      <td>Dinner</td>\n",
       "      <td>3</td>\n",
       "      <td>0.160542</td>\n",
       "      <td>3.446667</td>\n",
       "    </tr>\n",
       "    <tr>\n",
       "      <th>2</th>\n",
       "      <td>21.01</td>\n",
       "      <td>3.50</td>\n",
       "      <td>Male</td>\n",
       "      <td>No</td>\n",
       "      <td>Sun</td>\n",
       "      <td>Dinner</td>\n",
       "      <td>3</td>\n",
       "      <td>0.166587</td>\n",
       "      <td>7.003333</td>\n",
       "    </tr>\n",
       "    <tr>\n",
       "      <th>3</th>\n",
       "      <td>23.68</td>\n",
       "      <td>3.31</td>\n",
       "      <td>Male</td>\n",
       "      <td>No</td>\n",
       "      <td>Sun</td>\n",
       "      <td>Dinner</td>\n",
       "      <td>2</td>\n",
       "      <td>0.139780</td>\n",
       "      <td>11.840000</td>\n",
       "    </tr>\n",
       "    <tr>\n",
       "      <th>4</th>\n",
       "      <td>24.59</td>\n",
       "      <td>3.61</td>\n",
       "      <td>Female</td>\n",
       "      <td>No</td>\n",
       "      <td>Sun</td>\n",
       "      <td>Dinner</td>\n",
       "      <td>4</td>\n",
       "      <td>0.146808</td>\n",
       "      <td>6.147500</td>\n",
       "    </tr>\n",
       "  </tbody>\n",
       "</table>\n",
       "</div>"
      ],
      "text/plain": [
       "   total_bill   tip     sex smoker  day    time  size  tip_percentage  \\\n",
       "0       16.99  1.01  Female     No  Sun  Dinner     2        0.059447   \n",
       "1       10.34  1.66    Male     No  Sun  Dinner     3        0.160542   \n",
       "2       21.01  3.50    Male     No  Sun  Dinner     3        0.166587   \n",
       "3       23.68  3.31    Male     No  Sun  Dinner     2        0.139780   \n",
       "4       24.59  3.61  Female     No  Sun  Dinner     4        0.146808   \n",
       "\n",
       "   price_per_person  \n",
       "0          8.495000  \n",
       "1          3.446667  \n",
       "2          7.003333  \n",
       "3         11.840000  \n",
       "4          6.147500  "
      ]
     },
     "execution_count": 6,
     "metadata": {},
     "output_type": "execute_result"
    }
   ],
   "source": [
    "#checking\n",
    "tips.head()"
   ]
  },
  {
   "cell_type": "code",
   "execution_count": 7,
   "id": "1a12b57d",
   "metadata": {},
   "outputs": [],
   "source": [
    "#disambiguity\n",
    "tips.columns = tips.columns.str.replace('size', 'party_size')"
   ]
  },
  {
   "cell_type": "code",
   "execution_count": 8,
   "id": "0b284c95",
   "metadata": {},
   "outputs": [],
   "source": [
    "#determine working categoric and numerical columns\n",
    "quant_vars = ['total_bill', 'party_size', 'price_per_person']\n",
    "cat_vars = ['sex', 'smoker', 'day', 'time']"
   ]
  },
  {
   "cell_type": "code",
   "execution_count": 9,
   "id": "78ec249f",
   "metadata": {},
   "outputs": [
    {
     "data": {
      "image/png": "[encoded data removed]",
      "text/plain": [
       "<Figure size 432x288 with 1 Axes>"
      ]
     },
     "metadata": {
      "needs_background": "light"
     },
     "output_type": "display_data"
    },
    {
     "data": {
      "image/png": "[encoded data removed]",
      "text/plain": [
       "<Figure size 432x288 with 1 Axes>"
      ]
     },
     "metadata": {
      "needs_background": "light"
     },
     "output_type": "display_data"
    },
    {
     "data": {
      "image/png": "[encoded data removed]",
      "text/plain": [
       "<Figure size 432x288 with 1 Axes>"
      ]
     },
     "metadata": {
      "needs_background": "light"
     },
     "output_type": "display_data"
    },
    {
     "data": {
      "image/png": "[encoded data removed]",
      "text/plain": [
       "<Figure size 432x288 with 1 Axes>"
      ]
     },
     "metadata": {
      "needs_background": "light"
     },
     "output_type": "display_data"
    },
    {
     "data": {
      "image/png": "[encoded data removed]",
      "text/plain": [
       "<Figure size 432x288 with 1 Axes>"
      ]
     },
     "metadata": {
      "needs_background": "light"
     },
     "output_type": "display_data"
    },
    {
     "data": {
      "image/png": "[encoded data removed]",
      "text/plain": [
       "<Figure size 432x288 with 1 Axes>"
      ]
     },
     "metadata": {
      "needs_background": "light"
     },
     "output_type": "display_data"
    }
   ],
   "source": [
    "#distributions\n",
    "for cat in quant_vars:\n",
    "    tips[cat].hist(color = 'firebrick')\n",
    "    plt.title(cat)\n",
    "    plt.xlabel(cat)\n",
    "    plt.ylabel('Frequency')\n",
    "    plt.grid(True)\n",
    "    plt.show()\n",
    "    plt.boxplot(tips[cat])\n",
    "    plt.title(cat)\n",
    "    plt.ylabel(cat)\n",
    "    plt.grid(True)\n",
    "    plt.show();"
   ]
  },
  {
   "cell_type": "markdown",
   "id": "e3df12f8",
   "metadata": {},
   "source": [
    "I will do a robust scale for my data (many outliers)."
   ]
  },
  {
   "cell_type": "code",
   "execution_count": 10,
   "id": "a02f9648",
   "metadata": {},
   "outputs": [],
   "source": [
    "#one-hot encoding\n",
    "dummy_df = pd.get_dummies(tips[cat_vars], dummy_na = False, drop_first = True)"
   ]
  },
  {
   "cell_type": "code",
   "execution_count": 11,
   "id": "c9d574f4",
   "metadata": {},
   "outputs": [
    {
     "data": {
      "text/html": [
       "<div>\n",
       "<style scoped>\n",
       "    .dataframe tbody tr th:only-of-type {\n",
       "        vertical-align: middle;\n",
       "    }\n",
       "\n",
       "    .dataframe tbody tr th {\n",
       "        vertical-align: top;\n",
       "    }\n",
       "\n",
       "    .dataframe thead th {\n",
       "        text-align: right;\n",
       "    }\n",
       "</style>\n",
       "<table border=\"1\" class=\"dataframe\">\n",
       "  <thead>\n",
       "    <tr style=\"text-align: right;\">\n",
       "      <th></th>\n",
       "      <th>sex_Female</th>\n",
       "      <th>smoker_No</th>\n",
       "      <th>day_Fri</th>\n",
       "      <th>day_Sat</th>\n",
       "      <th>day_Sun</th>\n",
       "      <th>time_Dinner</th>\n",
       "    </tr>\n",
       "  </thead>\n",
       "  <tbody>\n",
       "    <tr>\n",
       "      <th>0</th>\n",
       "      <td>1</td>\n",
       "      <td>1</td>\n",
       "      <td>0</td>\n",
       "      <td>0</td>\n",
       "      <td>1</td>\n",
       "      <td>1</td>\n",
       "    </tr>\n",
       "    <tr>\n",
       "      <th>1</th>\n",
       "      <td>0</td>\n",
       "      <td>1</td>\n",
       "      <td>0</td>\n",
       "      <td>0</td>\n",
       "      <td>1</td>\n",
       "      <td>1</td>\n",
       "    </tr>\n",
       "    <tr>\n",
       "      <th>2</th>\n",
       "      <td>0</td>\n",
       "      <td>1</td>\n",
       "      <td>0</td>\n",
       "      <td>0</td>\n",
       "      <td>1</td>\n",
       "      <td>1</td>\n",
       "    </tr>\n",
       "    <tr>\n",
       "      <th>3</th>\n",
       "      <td>0</td>\n",
       "      <td>1</td>\n",
       "      <td>0</td>\n",
       "      <td>0</td>\n",
       "      <td>1</td>\n",
       "      <td>1</td>\n",
       "    </tr>\n",
       "    <tr>\n",
       "      <th>4</th>\n",
       "      <td>1</td>\n",
       "      <td>1</td>\n",
       "      <td>0</td>\n",
       "      <td>0</td>\n",
       "      <td>1</td>\n",
       "      <td>1</td>\n",
       "    </tr>\n",
       "  </tbody>\n",
       "</table>\n",
       "</div>"
      ],
      "text/plain": [
       "   sex_Female  smoker_No  day_Fri  day_Sat  day_Sun  time_Dinner\n",
       "0           1          1        0        0        1            1\n",
       "1           0          1        0        0        1            1\n",
       "2           0          1        0        0        1            1\n",
       "3           0          1        0        0        1            1\n",
       "4           1          1        0        0        1            1"
      ]
     },
     "execution_count": 11,
     "metadata": {},
     "output_type": "execute_result"
    }
   ],
   "source": [
    "#what it look like?\n",
    "dummy_df.head()"
   ]
  },
  {
   "cell_type": "code",
   "execution_count": 12,
   "id": "3f59cd8d",
   "metadata": {},
   "outputs": [],
   "source": [
    "#rename columns\n",
    "dummy_df.columns = dummy_df.columns.str.lower().str.replace('day_', '').str.replace('time_', '').str.replace('_no', '').str.replace('sex_', '')"
   ]
  },
  {
   "cell_type": "code",
   "execution_count": 13,
   "id": "685cac51",
   "metadata": {},
   "outputs": [],
   "source": [
    "#concatenate\n",
    "tips = pd.concat([tips.drop(columns = cat_vars), dummy_df], axis = 1)"
   ]
  },
  {
   "cell_type": "code",
   "execution_count": 14,
   "id": "6df6945d",
   "metadata": {},
   "outputs": [
    {
     "data": {
      "text/html": [
       "<div>\n",
       "<style scoped>\n",
       "    .dataframe tbody tr th:only-of-type {\n",
       "        vertical-align: middle;\n",
       "    }\n",
       "\n",
       "    .dataframe tbody tr th {\n",
       "        vertical-align: top;\n",
       "    }\n",
       "\n",
       "    .dataframe thead th {\n",
       "        text-align: right;\n",
       "    }\n",
       "</style>\n",
       "<table border=\"1\" class=\"dataframe\">\n",
       "  <thead>\n",
       "    <tr style=\"text-align: right;\">\n",
       "      <th></th>\n",
       "      <th>total_bill</th>\n",
       "      <th>tip</th>\n",
       "      <th>party_size</th>\n",
       "      <th>tip_percentage</th>\n",
       "      <th>price_per_person</th>\n",
       "      <th>female</th>\n",
       "      <th>smoker</th>\n",
       "      <th>fri</th>\n",
       "      <th>sat</th>\n",
       "      <th>sun</th>\n",
       "      <th>dinner</th>\n",
       "    </tr>\n",
       "  </thead>\n",
       "  <tbody>\n",
       "    <tr>\n",
       "      <th>0</th>\n",
       "      <td>16.99</td>\n",
       "      <td>1.01</td>\n",
       "      <td>2</td>\n",
       "      <td>0.059447</td>\n",
       "      <td>8.495000</td>\n",
       "      <td>1</td>\n",
       "      <td>1</td>\n",
       "      <td>0</td>\n",
       "      <td>0</td>\n",
       "      <td>1</td>\n",
       "      <td>1</td>\n",
       "    </tr>\n",
       "    <tr>\n",
       "      <th>1</th>\n",
       "      <td>10.34</td>\n",
       "      <td>1.66</td>\n",
       "      <td>3</td>\n",
       "      <td>0.160542</td>\n",
       "      <td>3.446667</td>\n",
       "      <td>0</td>\n",
       "      <td>1</td>\n",
       "      <td>0</td>\n",
       "      <td>0</td>\n",
       "      <td>1</td>\n",
       "      <td>1</td>\n",
       "    </tr>\n",
       "    <tr>\n",
       "      <th>2</th>\n",
       "      <td>21.01</td>\n",
       "      <td>3.50</td>\n",
       "      <td>3</td>\n",
       "      <td>0.166587</td>\n",
       "      <td>7.003333</td>\n",
       "      <td>0</td>\n",
       "      <td>1</td>\n",
       "      <td>0</td>\n",
       "      <td>0</td>\n",
       "      <td>1</td>\n",
       "      <td>1</td>\n",
       "    </tr>\n",
       "    <tr>\n",
       "      <th>3</th>\n",
       "      <td>23.68</td>\n",
       "      <td>3.31</td>\n",
       "      <td>2</td>\n",
       "      <td>0.139780</td>\n",
       "      <td>11.840000</td>\n",
       "      <td>0</td>\n",
       "      <td>1</td>\n",
       "      <td>0</td>\n",
       "      <td>0</td>\n",
       "      <td>1</td>\n",
       "      <td>1</td>\n",
       "    </tr>\n",
       "    <tr>\n",
       "      <th>4</th>\n",
       "      <td>24.59</td>\n",
       "      <td>3.61</td>\n",
       "      <td>4</td>\n",
       "      <td>0.146808</td>\n",
       "      <td>6.147500</td>\n",
       "      <td>1</td>\n",
       "      <td>1</td>\n",
       "      <td>0</td>\n",
       "      <td>0</td>\n",
       "      <td>1</td>\n",
       "      <td>1</td>\n",
       "    </tr>\n",
       "  </tbody>\n",
       "</table>\n",
       "</div>"
      ],
      "text/plain": [
       "   total_bill   tip  party_size  tip_percentage  price_per_person  female  \\\n",
       "0       16.99  1.01           2        0.059447          8.495000       1   \n",
       "1       10.34  1.66           3        0.160542          3.446667       0   \n",
       "2       21.01  3.50           3        0.166587          7.003333       0   \n",
       "3       23.68  3.31           2        0.139780         11.840000       0   \n",
       "4       24.59  3.61           4        0.146808          6.147500       1   \n",
       "\n",
       "   smoker  fri  sat  sun  dinner  \n",
       "0       1    0    0    1       1  \n",
       "1       1    0    0    1       1  \n",
       "2       1    0    0    1       1  \n",
       "3       1    0    0    1       1  \n",
       "4       1    0    0    1       1  "
      ]
     },
     "execution_count": 14,
     "metadata": {},
     "output_type": "execute_result"
    }
   ],
   "source": [
    "#I like it\n",
    "tips.head()"
   ]
  },
  {
   "cell_type": "code",
   "execution_count": 15,
   "id": "ed4fc01e",
   "metadata": {},
   "outputs": [],
   "source": [
    "#split it\n",
    "train, validate, test = mf.split_data(tips)"
   ]
  },
  {
   "cell_type": "code",
   "execution_count": 16,
   "id": "68d38fe3",
   "metadata": {},
   "outputs": [
    {
     "data": {
      "text/plain": [
       "((136, 11), (59, 11), (49, 11))"
      ]
     },
     "execution_count": 16,
     "metadata": {},
     "output_type": "execute_result"
    }
   ],
   "source": [
    "#check it\n",
    "train.shape, validate.shape, test.shape"
   ]
  },
  {
   "cell_type": "code",
   "execution_count": 17,
   "id": "c240b2d3",
   "metadata": {},
   "outputs": [],
   "source": [
    "#create the object\n",
    "scaler = sklearn.preprocessing.RobustScaler()\n",
    "\n",
    "#fit the object\n",
    "scaler.fit(train[quant_vars])\n",
    "\n",
    "#use the object\n",
    "train_scaled = scaler.transform(train[quant_vars])\n",
    "validate_scaled = scaler.transform(validate[quant_vars])\n",
    "test_scaled = scaler.transform(test[quant_vars])\n",
    "\n",
    "#adding scaled columns\n",
    "train[['total_bill_scaled', 'party_size_scaled', 'price_per_person_scaled']] = train_scaled\n",
    "validate[['total_bill_scaled', 'party_size_scaled', 'price_per_person_scaled']] = validate_scaled\n",
    "test[['total_bill_scaled', 'party_size_scaled', 'price_per_person_scaled']] = test_scaled"
   ]
  },
  {
   "cell_type": "code",
   "execution_count": 18,
   "id": "f5b4cd89",
   "metadata": {},
   "outputs": [
    {
     "data": {
      "image/png": "[encoded data removed]",
      "text/plain": [
       "<Figure size 936x504 with 6 Axes>"
      ]
     },
     "metadata": {
      "needs_background": "light"
     },
     "output_type": "display_data"
    }
   ],
   "source": [
    "#visualize scaled vs unscaled (I just want to verify i've done it right)\n",
    "\n",
    "#create figure\n",
    "plt.figure(figsize = (13, 7))\n",
    "\n",
    "#subplot 1\n",
    "plt.subplot(231)\n",
    "train.total_bill.hist(color = 'lightcoral')\n",
    "plt.title('Original Total Bill Distribution')\n",
    "plt.ylabel('Frequency')\n",
    "\n",
    "#subplot 2\n",
    "plt.subplot(234)\n",
    "train.total_bill_scaled.hist(color = 'lightcoral')\n",
    "plt.title('Robust Scaled Distribution')\n",
    "plt.ylabel('Frequency')\n",
    "\n",
    "#subplot 3\n",
    "plt.subplot(232)\n",
    "train['party_size'].hist(color = 'indianred')\n",
    "plt.title('Original Party Size Distribution')\n",
    "\n",
    "\n",
    "#subplot 4\n",
    "plt.subplot(235)\n",
    "train.party_size_scaled.hist(color = 'indianred')\n",
    "plt.title('Robust Scaled Distribution')\n",
    "\n",
    "#subplot 5\n",
    "plt.subplot(233)\n",
    "train.price_per_person.hist(color = 'firebrick')\n",
    "plt.title('Original Price Per Person Distribution')\n",
    "\n",
    "#subplot 6\n",
    "plt.subplot(236)\n",
    "train.price_per_person_scaled.hist(color = 'firebrick')\n",
    "plt.title('Robust Scaled Distribution')\n",
    "\n",
    "plt.tight_layout();"
   ]
  },
  {
   "cell_type": "code",
   "execution_count": 19,
   "id": "4c133051",
   "metadata": {},
   "outputs": [
    {
     "data": {
      "text/html": [
       "<div>\n",
       "<style scoped>\n",
       "    .dataframe tbody tr th:only-of-type {\n",
       "        vertical-align: middle;\n",
       "    }\n",
       "\n",
       "    .dataframe tbody tr th {\n",
       "        vertical-align: top;\n",
       "    }\n",
       "\n",
       "    .dataframe thead th {\n",
       "        text-align: right;\n",
       "    }\n",
       "</style>\n",
       "<table border=\"1\" class=\"dataframe\">\n",
       "  <thead>\n",
       "    <tr style=\"text-align: right;\">\n",
       "      <th></th>\n",
       "      <th>total_bill</th>\n",
       "      <th>tip</th>\n",
       "      <th>party_size</th>\n",
       "      <th>tip_percentage</th>\n",
       "      <th>price_per_person</th>\n",
       "      <th>female</th>\n",
       "      <th>smoker</th>\n",
       "      <th>fri</th>\n",
       "      <th>sat</th>\n",
       "      <th>sun</th>\n",
       "      <th>dinner</th>\n",
       "      <th>total_bill_scaled</th>\n",
       "      <th>party_size_scaled</th>\n",
       "      <th>price_per_person_scaled</th>\n",
       "    </tr>\n",
       "  </thead>\n",
       "  <tbody>\n",
       "    <tr>\n",
       "      <th>97</th>\n",
       "      <td>12.03</td>\n",
       "      <td>1.50</td>\n",
       "      <td>2</td>\n",
       "      <td>0.124688</td>\n",
       "      <td>6.015000</td>\n",
       "      <td>0</td>\n",
       "      <td>0</td>\n",
       "      <td>1</td>\n",
       "      <td>0</td>\n",
       "      <td>0</td>\n",
       "      <td>1</td>\n",
       "      <td>-0.467066</td>\n",
       "      <td>0.0</td>\n",
       "      <td>-0.399181</td>\n",
       "    </tr>\n",
       "    <tr>\n",
       "      <th>20</th>\n",
       "      <td>17.92</td>\n",
       "      <td>4.08</td>\n",
       "      <td>2</td>\n",
       "      <td>0.227679</td>\n",
       "      <td>8.960000</td>\n",
       "      <td>0</td>\n",
       "      <td>1</td>\n",
       "      <td>0</td>\n",
       "      <td>1</td>\n",
       "      <td>0</td>\n",
       "      <td>1</td>\n",
       "      <td>0.036784</td>\n",
       "      <td>0.0</td>\n",
       "      <td>0.427970</td>\n",
       "    </tr>\n",
       "    <tr>\n",
       "      <th>40</th>\n",
       "      <td>16.04</td>\n",
       "      <td>2.24</td>\n",
       "      <td>3</td>\n",
       "      <td>0.139651</td>\n",
       "      <td>5.346667</td>\n",
       "      <td>0</td>\n",
       "      <td>1</td>\n",
       "      <td>0</td>\n",
       "      <td>1</td>\n",
       "      <td>0</td>\n",
       "      <td>1</td>\n",
       "      <td>-0.124038</td>\n",
       "      <td>1.0</td>\n",
       "      <td>-0.586893</td>\n",
       "    </tr>\n",
       "    <tr>\n",
       "      <th>38</th>\n",
       "      <td>18.69</td>\n",
       "      <td>2.31</td>\n",
       "      <td>3</td>\n",
       "      <td>0.123596</td>\n",
       "      <td>6.230000</td>\n",
       "      <td>0</td>\n",
       "      <td>1</td>\n",
       "      <td>0</td>\n",
       "      <td>1</td>\n",
       "      <td>0</td>\n",
       "      <td>1</td>\n",
       "      <td>0.102652</td>\n",
       "      <td>1.0</td>\n",
       "      <td>-0.338795</td>\n",
       "    </tr>\n",
       "    <tr>\n",
       "      <th>42</th>\n",
       "      <td>13.94</td>\n",
       "      <td>3.06</td>\n",
       "      <td>2</td>\n",
       "      <td>0.219512</td>\n",
       "      <td>6.970000</td>\n",
       "      <td>0</td>\n",
       "      <td>1</td>\n",
       "      <td>0</td>\n",
       "      <td>0</td>\n",
       "      <td>1</td>\n",
       "      <td>1</td>\n",
       "      <td>-0.303678</td>\n",
       "      <td>0.0</td>\n",
       "      <td>-0.130954</td>\n",
       "    </tr>\n",
       "  </tbody>\n",
       "</table>\n",
       "</div>"
      ],
      "text/plain": [
       "    total_bill   tip  party_size  tip_percentage  price_per_person  female  \\\n",
       "97       12.03  1.50           2        0.124688          6.015000       0   \n",
       "20       17.92  4.08           2        0.227679          8.960000       0   \n",
       "40       16.04  2.24           3        0.139651          5.346667       0   \n",
       "38       18.69  2.31           3        0.123596          6.230000       0   \n",
       "42       13.94  3.06           2        0.219512          6.970000       0   \n",
       "\n",
       "    smoker  fri  sat  sun  dinner  total_bill_scaled  party_size_scaled  \\\n",
       "97       0    1    0    0       1          -0.467066                0.0   \n",
       "20       1    0    1    0       1           0.036784                0.0   \n",
       "40       1    0    1    0       1          -0.124038                1.0   \n",
       "38       1    0    1    0       1           0.102652                1.0   \n",
       "42       1    0    0    1       1          -0.303678                0.0   \n",
       "\n",
       "    price_per_person_scaled  \n",
       "97                -0.399181  \n",
       "20                 0.427970  \n",
       "40                -0.586893  \n",
       "38                -0.338795  \n",
       "42                -0.130954  "
      ]
     },
     "execution_count": 19,
     "metadata": {},
     "output_type": "execute_result"
    }
   ],
   "source": [
    "train.head()"
   ]
  },
  {
   "cell_type": "code",
   "execution_count": 20,
   "id": "8c03d390",
   "metadata": {},
   "outputs": [],
   "source": [
    "#get the X and y ready\n",
    "not_scaled = ['total_bill', 'tip', 'party_size', 'tip_percentage', 'price_per_person']"
   ]
  },
  {
   "cell_type": "code",
   "execution_count": 21,
   "id": "8558d789",
   "metadata": {},
   "outputs": [],
   "source": [
    "#format modeling data\n",
    "X_train = train.drop(columns = not_scaled)\n",
    "y_train = train.tip\n",
    "\n",
    "X_validate = validate.drop(columns = not_scaled)\n",
    "y_validate = validate.tip\n",
    "\n",
    "X_test = test.drop(columns = not_scaled)\n",
    "y_test = test.tip"
   ]
  },
  {
   "cell_type": "code",
   "execution_count": 22,
   "id": "bb80fec2",
   "metadata": {},
   "outputs": [],
   "source": [
    "### C. Before using any of the methods discussed in the lesson, which features do you think would be most important for predicting the tip amount? The tip percentage?\n",
    "#I think the most important feature will be party size\n",
    "### D. Use select k best and recursive feature elimination to select the top 2 features for predicting tip amount. What are they?\n",
    "\n",
    "#parameters: f_regression stats test, give me 2 features\n",
    "best_feat = SelectKBest(f_regression, k = 2)\n",
    "\n",
    "#find the top two X's correlated with y \n",
    "best_feat.fit(X_train, y_train)\n",
    "\n",
    "#boolean mask of whether or not X was selected\n",
    "feat_mask = best_feat.get_support()\n",
    "\n",
    "#get the best features\n",
    "best_features = X_train.iloc[:,feat_mask].columns.to_list()"
   ]
  },
  {
   "cell_type": "code",
   "execution_count": 23,
   "id": "6a6b3830",
   "metadata": {},
   "outputs": [
    {
     "data": {
      "text/plain": [
       "['total_bill_scaled', 'party_size_scaled']"
      ]
     },
     "execution_count": 23,
     "metadata": {},
     "output_type": "execute_result"
    }
   ],
   "source": [
    "#looks like I guessed right\n",
    "best_features"
   ]
  },
  {
   "cell_type": "code",
   "execution_count": 24,
   "id": "18fed0db",
   "metadata": {},
   "outputs": [],
   "source": [
    "#crank it\n",
    "lm = LinearRegression()\n",
    "\n",
    "#pop it\n",
    "rfe = RFE(lm, 2)\n",
    "\n",
    "#bop it\n",
    "rfe.fit(X_train, y_train)  \n",
    "\n",
    "#twist it\n",
    "feat_mask = rfe.support_\n",
    "\n",
    "#pull it \n",
    "best_rfe = X_train.iloc[:,feat_mask].columns.tolist()"
   ]
  },
  {
   "cell_type": "code",
   "execution_count": 25,
   "id": "b8ef54b0",
   "metadata": {},
   "outputs": [
    {
     "data": {
      "text/plain": [
       "['total_bill_scaled', 'price_per_person_scaled']"
      ]
     },
     "execution_count": 25,
     "metadata": {},
     "output_type": "execute_result"
    }
   ],
   "source": [
    "#bop it\n",
    "best_rfe"
   ]
  },
  {
   "cell_type": "code",
   "execution_count": 26,
   "id": "ef9eda1c",
   "metadata": {},
   "outputs": [
    {
     "data": {
      "text/plain": [
       "['total_bill_scaled', 'price_per_person_scaled']"
      ]
     },
     "execution_count": 26,
     "metadata": {},
     "output_type": "execute_result"
    }
   ],
   "source": [
    "### E. Use select k best and recursive feature elimination to select the top 2 features for predicting tip percentage. What are they?\n",
    "best_feat.fit(X_train, train['tip_percentage'])\n",
    "feat_mask = best_feat.get_support()\n",
    "best_features = X_train.iloc[:,feat_mask].columns.to_list()\n",
    "best_features"
   ]
  },
  {
   "cell_type": "code",
   "execution_count": 27,
   "id": "afe670f2",
   "metadata": {},
   "outputs": [
    {
     "data": {
      "text/plain": [
       "['fri', 'price_per_person_scaled']"
      ]
     },
     "execution_count": 27,
     "metadata": {},
     "output_type": "execute_result"
    }
   ],
   "source": [
    "#crank it\n",
    "lm = LinearRegression()\n",
    "\n",
    "#pop it\n",
    "rfe = RFE(lm, 2)\n",
    "\n",
    "#bop it\n",
    "rfe.fit(X_train, train['tip_percentage'])  \n",
    "\n",
    "#twist it\n",
    "feat_mask = rfe.support_\n",
    "\n",
    "#pull it \n",
    "best_rfe = X_train.iloc[:,feat_mask].columns.tolist()\n",
    "\n",
    "best_rfe"
   ]
  },
  {
   "cell_type": "markdown",
   "id": "0d5fed9d",
   "metadata": {},
   "source": [
    "F ### F. Why do you think select k best and recursive feature elimination might give different answers for the top features? Does this change as you change the number of features your are selecting?\n",
    "They give different answers because they use different algorithms (one uses models and another runs stats tests. And yes, changing the number of best features does lead to different answers."
   ]
  },
  {
   "cell_type": "markdown",
   "id": "b68fc203",
   "metadata": {},
   "source": [
    "## Exercise II\n",
    "Write a function named select_kbest that takes in the predictors (X), the target (y), and the number of features to select (k) and returns the names of the top k selected features based on the SelectKBest class. Test your function with the tips dataset. You should see the same results as when you did the process manually."
   ]
  },
  {
   "cell_type": "code",
   "execution_count": 28,
   "id": "680b232a",
   "metadata": {},
   "outputs": [
    {
     "data": {
      "text/plain": [
       "['total_bill_scaled', 'party_size_scaled']"
      ]
     },
     "execution_count": 28,
     "metadata": {},
     "output_type": "execute_result"
    }
   ],
   "source": [
    "#X = predictors\n",
    "#y = target\n",
    "#k = number of features\n",
    "def select_kbest(X, y, k):\n",
    "    from sklearn.feature_selection import SelectKBest, f_regression, RFE\n",
    "    best_feat = SelectKBest(f_regression, k = k)\n",
    "    best_feat.fit(X_train, y_train)\n",
    "    feat_mask = best_feat.get_support()\n",
    "    best_features = X_train.iloc[:,feat_mask].columns.to_list()\n",
    "    return best_features\n",
    "\n",
    "select_kbest(X_train, y_train, 2)"
   ]
  },
  {
   "cell_type": "markdown",
   "id": "b6689b0e",
   "metadata": {},
   "source": [
    "## Exercise III\n",
    "Write a function named rfe that takes in the predictors, the target, and the number of features to select. It should return the top k features based on the RFE class. Test your function with the tips dataset. You should see the same results as when you did the process manually."
   ]
  },
  {
   "cell_type": "code",
   "execution_count": 29,
   "id": "b12a7166",
   "metadata": {},
   "outputs": [
    {
     "data": {
      "text/plain": [
       "['total_bill_scaled', 'price_per_person_scaled']"
      ]
     },
     "execution_count": 29,
     "metadata": {},
     "output_type": "execute_result"
    }
   ],
   "source": [
    "def rfe(X, y, k):\n",
    "    from sklearn.feature_selection import SelectKBest, f_regression, RFE\n",
    "    from sklearn.linear_model import LinearRegression\n",
    "    #crank it\n",
    "    lm = LinearRegression()\n",
    "\n",
    "    #pop it\n",
    "    rfe = RFE(lm, k)\n",
    "    \n",
    "    #bop it\n",
    "    rfe.fit(X_train, y_train)  \n",
    "    \n",
    "    #twist it\n",
    "    feat_mask = rfe.support_\n",
    "    \n",
    "    #pull it \n",
    "    best_rfe = X_train.iloc[:,feat_mask].columns.tolist()\n",
    "    \n",
    "    return best_rfe\n",
    "\n",
    "rfe(X_train, y_train, 2)"
   ]
  },
  {
   "cell_type": "markdown",
   "id": "4ad68db7",
   "metadata": {},
   "source": [
    "## Exercise IV\n",
    "Load the swiss dataset and use all the other features to predict Fertility. Find the top 3 features using both select k best and recursive feature elimination (use the functions you just built to help you out)."
   ]
  },
  {
   "cell_type": "code",
   "execution_count": 30,
   "id": "8c51e9a1",
   "metadata": {},
   "outputs": [],
   "source": [
    "from pydataset import data"
   ]
  },
  {
   "cell_type": "code",
   "execution_count": 31,
   "id": "67447c5c",
   "metadata": {},
   "outputs": [],
   "source": [
    "swiss = data('swiss')"
   ]
  },
  {
   "cell_type": "code",
   "execution_count": 32,
   "id": "14b0fb0c",
   "metadata": {},
   "outputs": [
    {
     "name": "stdout",
     "output_type": "stream",
     "text": [
      "swiss\n",
      "\n",
      "PyDataset Documentation (adopted from R Documentation. The displayed examples are in R)\n",
      "\n",
      "## Swiss Fertility and Socioeconomic Indicators (1888) Data\n",
      "\n",
      "### Description\n",
      "\n",
      "Standardized fertility measure and socio-economic indicators for each of 47\n",
      "French-speaking provinces of Switzerland at about 1888.\n",
      "\n",
      "### Usage\n",
      "\n",
      "    data(swiss)\n",
      "\n",
      "### Format\n",
      "\n",
      "A data frame with 47 observations on 6 variables, each of which is in percent,\n",
      "i.e., in [0,100].\n",
      "\n",
      "[,1] Fertility Ig, \"common standardized fertility measure\" [,2] Agriculture\n",
      "[,3] Examination nation [,4] Education [,5] Catholic [,6] Infant.Mortality\n",
      "live births who live less than 1 year.\n",
      "\n",
      "All variables but 'Fert' give proportions of the population.\n",
      "\n",
      "### Source\n",
      "\n",
      "Project \"16P5\", pages 549-551 in\n",
      "\n",
      "Mosteller, F. and Tukey, J. W. (1977) “Data Analysis and Regression: A Second\n",
      "Course in Statistics”. Addison-Wesley, Reading Mass.\n",
      "\n",
      "indicating their source as \"Data used by permission of Franice van de Walle.\n",
      "Office of Population Research, Princeton University, 1976\\. Unpublished data\n",
      "assembled under NICHD contract number No 1-HD-O-2077.\"\n",
      "\n",
      "### References\n",
      "\n",
      "Becker, R. A., Chambers, J. M. and Wilks, A. R. (1988) “The New S Language”.\n",
      "Wadsworth & Brooks/Cole.\n",
      "\n",
      "\n"
     ]
    }
   ],
   "source": [
    "data('swiss', show_doc = True)"
   ]
  },
  {
   "cell_type": "code",
   "execution_count": 33,
   "id": "93da962e",
   "metadata": {},
   "outputs": [
    {
     "data": {
      "text/html": [
       "<div>\n",
       "<style scoped>\n",
       "    .dataframe tbody tr th:only-of-type {\n",
       "        vertical-align: middle;\n",
       "    }\n",
       "\n",
       "    .dataframe tbody tr th {\n",
       "        vertical-align: top;\n",
       "    }\n",
       "\n",
       "    .dataframe thead th {\n",
       "        text-align: right;\n",
       "    }\n",
       "</style>\n",
       "<table border=\"1\" class=\"dataframe\">\n",
       "  <thead>\n",
       "    <tr style=\"text-align: right;\">\n",
       "      <th></th>\n",
       "      <th>Fertility</th>\n",
       "      <th>Agriculture</th>\n",
       "      <th>Examination</th>\n",
       "      <th>Education</th>\n",
       "      <th>Catholic</th>\n",
       "      <th>Infant.Mortality</th>\n",
       "    </tr>\n",
       "  </thead>\n",
       "  <tbody>\n",
       "    <tr>\n",
       "      <th>Courtelary</th>\n",
       "      <td>80.2</td>\n",
       "      <td>17.0</td>\n",
       "      <td>15</td>\n",
       "      <td>12</td>\n",
       "      <td>9.96</td>\n",
       "      <td>22.2</td>\n",
       "    </tr>\n",
       "    <tr>\n",
       "      <th>Delemont</th>\n",
       "      <td>83.1</td>\n",
       "      <td>45.1</td>\n",
       "      <td>6</td>\n",
       "      <td>9</td>\n",
       "      <td>84.84</td>\n",
       "      <td>22.2</td>\n",
       "    </tr>\n",
       "    <tr>\n",
       "      <th>Franches-Mnt</th>\n",
       "      <td>92.5</td>\n",
       "      <td>39.7</td>\n",
       "      <td>5</td>\n",
       "      <td>5</td>\n",
       "      <td>93.40</td>\n",
       "      <td>20.2</td>\n",
       "    </tr>\n",
       "    <tr>\n",
       "      <th>Moutier</th>\n",
       "      <td>85.8</td>\n",
       "      <td>36.5</td>\n",
       "      <td>12</td>\n",
       "      <td>7</td>\n",
       "      <td>33.77</td>\n",
       "      <td>20.3</td>\n",
       "    </tr>\n",
       "    <tr>\n",
       "      <th>Neuveville</th>\n",
       "      <td>76.9</td>\n",
       "      <td>43.5</td>\n",
       "      <td>17</td>\n",
       "      <td>15</td>\n",
       "      <td>5.16</td>\n",
       "      <td>20.6</td>\n",
       "    </tr>\n",
       "  </tbody>\n",
       "</table>\n",
       "</div>"
      ],
      "text/plain": [
       "              Fertility  Agriculture  Examination  Education  Catholic  \\\n",
       "Courtelary         80.2         17.0           15         12      9.96   \n",
       "Delemont           83.1         45.1            6          9     84.84   \n",
       "Franches-Mnt       92.5         39.7            5          5     93.40   \n",
       "Moutier            85.8         36.5           12          7     33.77   \n",
       "Neuveville         76.9         43.5           17         15      5.16   \n",
       "\n",
       "              Infant.Mortality  \n",
       "Courtelary                22.2  \n",
       "Delemont                  22.2  \n",
       "Franches-Mnt              20.2  \n",
       "Moutier                   20.3  \n",
       "Neuveville                20.6  "
      ]
     },
     "execution_count": 33,
     "metadata": {},
     "output_type": "execute_result"
    }
   ],
   "source": [
    "swiss.head()"
   ]
  },
  {
   "cell_type": "code",
   "execution_count": 34,
   "id": "ba0f6dd2",
   "metadata": {},
   "outputs": [],
   "source": [
    "#split the data\n",
    "train, validate, test = mf.split_data(swiss)"
   ]
  },
  {
   "cell_type": "code",
   "execution_count": 35,
   "id": "39298aff",
   "metadata": {},
   "outputs": [],
   "source": [
    "#set up numeric columns as a list\n",
    "quant_vars = ['Agriculture', 'Examination', 'Education', 'Catholic', 'Infant.Mortality']"
   ]
  },
  {
   "cell_type": "code",
   "execution_count": 36,
   "id": "c11ff550",
   "metadata": {},
   "outputs": [],
   "source": [
    "\n",
    "#create the object\n",
    "scaler = sklearn.preprocessing.RobustScaler()\n",
    "\n",
    "#fit the object\n",
    "scaler.fit(train[quant_vars])\n",
    "\n",
    "#use the object\n",
    "train_scaled = scaler.transform(train[quant_vars])\n",
    "validate_scaled = scaler.transform(validate[quant_vars])\n",
    "test_scaled = scaler.transform(test[quant_vars])\n",
    "\n",
    "#add scaled columns\n",
    "train[['Agriculture_scaled', 'Examination_scaled', 'Education_scaled', 'Catholic_scaled', 'Infant.Mortality_scaled']] = train_scaled\n",
    "validate[['Agriculture_scaled', 'Examination_scaled', 'Education_scaled', 'Catholic_scaled', 'Infant.Mortality_scaled']] = validate_scaled\n",
    "test[['Agriculture_scaled', 'Examination_scaled', 'Education_scaled', 'Catholic_scaled', 'Infant.Mortality_scaled']] = test_scaled"
   ]
  },
  {
   "cell_type": "code",
   "execution_count": 37,
   "id": "8bfef7cd",
   "metadata": {},
   "outputs": [],
   "source": [
    "#represent scaled columns with a variable\n",
    "scaled = ['Agriculture_scaled', 'Examination_scaled', 'Education_scaled', 'Catholic_scaled', 'Infant.Mortality_scaled']"
   ]
  },
  {
   "cell_type": "code",
   "execution_count": 38,
   "id": "3ae2842f",
   "metadata": {},
   "outputs": [],
   "source": [
    "#set up modeling data\n",
    "X_train = train[scaled]\n",
    "y_train = train.Fertility\n",
    "\n",
    "X_validate = validate[scaled]\n",
    "y_validate = validate.Fertility\n",
    "\n",
    "X_test = test[scaled]\n",
    "y_test = test.Fertility"
   ]
  },
  {
   "cell_type": "code",
   "execution_count": 39,
   "id": "4122a7cf",
   "metadata": {},
   "outputs": [
    {
     "data": {
      "text/plain": [
       "['Education_scaled', 'Catholic_scaled', 'Infant.Mortality_scaled']"
      ]
     },
     "execution_count": 39,
     "metadata": {},
     "output_type": "execute_result"
    }
   ],
   "source": [
    "#gimme\n",
    "select_kbest(X_train, y_train, 3)"
   ]
  },
  {
   "cell_type": "code",
   "execution_count": 40,
   "id": "b78c528c",
   "metadata": {},
   "outputs": [
    {
     "data": {
      "text/plain": [
       "['Agriculture_scaled', 'Education_scaled', 'Catholic_scaled']"
      ]
     },
     "execution_count": 40,
     "metadata": {},
     "output_type": "execute_result"
    }
   ],
   "source": [
    "#pull it\n",
    "rfe(X_train, y_train, 3)"
   ]
  }
 ],
 "metadata": {
  "kernelspec": {
   "display_name": "Python 3",
   "language": "python",
   "name": "python3"
  },
  "language_info": {
   "codemirror_mode": {
    "name": "ipython",
    "version": 3
   },
   "file_extension": ".py",
   "mimetype": "text/x-python",
   "name": "python",
   "nbconvert_exporter": "python",
   "pygments_lexer": "ipython3",
   "version": "3.8.8"
  }
 },
 "nbformat": 4,
 "nbformat_minor": 5
}
